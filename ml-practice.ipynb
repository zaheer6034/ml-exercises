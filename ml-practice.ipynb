{
 "cells": [
  {
   "cell_type": "markdown",
   "id": "bb371128",
   "metadata": {},
   "source": [
    "### In this exercise, we will showcase the implementation of two fundamental machine learning models\n",
    "\n",
    "#### Linear Regression Model:\n",
    "> Used to predict continuous numerical variables.\n",
    "> Implemented to understand relationships between independent and dependent variables.\n",
    "> Helps in identifying patterns and making predictions based on observed data.\n",
    "> We are predicting salary based on certain input features like age, gender, education and years of experience\n",
    "\n",
    "#### Decision Tree Classifier:\n",
    "> Applied for classification tasks to assign data points to specific categories.\n",
    "> Utilizes a tree-like structure of decisions based on features to classify instances.\n",
    "> Effective for both binary and multiclass classification problems.\n",
    "> We will be classifying data into two categories on the base of salary and will predict the relevant class\n",
    "\n",
    "#### Preprocessing Techniques:\n",
    "> **One-Hot-Encoding**: Used for converting categorical variables into numerical format, enabling the model to interpret them effectively.\n",
    "> **MinMaxScaler Technique**: Employed for feature scaling to normalize the range of independent variables, enhancing the performance of the models."
   ]
  },
  {
   "cell_type": "markdown",
   "id": "b9efaffb",
   "metadata": {},
   "source": [
    "### Linear Regression Model"
   ]
  },
  {
   "cell_type": "code",
   "execution_count": 3,
   "id": "83884826",
   "metadata": {},
   "outputs": [],
   "source": [
    "## Importing Libraries\n",
    "# !pip install -U scikit-learn\n",
    "\n",
    "import pandas as pd\n",
    "import numpy as np\n",
    "import matplotlib.pyplot as plt\n",
    "import seaborn as sns\n",
    "from sklearn.preprocessing import LabelEncoder, OneHotEncoder\n",
    "from sklearn.model_selection import train_test_split\n",
    "from sklearn.linear_model import LinearRegression"
   ]
  },
  {
   "cell_type": "code",
   "execution_count": 4,
   "id": "e813c2ea",
   "metadata": {},
   "outputs": [],
   "source": [
    "# Reading the dataset\n",
    "salary = pd.read_csv(\"Salary Data.csv\")"
   ]
  },
  {
   "cell_type": "code",
   "execution_count": 5,
   "id": "2d6182ac",
   "metadata": {},
   "outputs": [
    {
     "data": {
      "text/html": [
       "<div>\n",
       "<style scoped>\n",
       "    .dataframe tbody tr th:only-of-type {\n",
       "        vertical-align: middle;\n",
       "    }\n",
       "\n",
       "    .dataframe tbody tr th {\n",
       "        vertical-align: top;\n",
       "    }\n",
       "\n",
       "    .dataframe thead th {\n",
       "        text-align: right;\n",
       "    }\n",
       "</style>\n",
       "<table border=\"1\" class=\"dataframe\">\n",
       "  <thead>\n",
       "    <tr style=\"text-align: right;\">\n",
       "      <th></th>\n",
       "      <th>Age</th>\n",
       "      <th>Gender</th>\n",
       "      <th>Education Level</th>\n",
       "      <th>Job Title</th>\n",
       "      <th>Years of Experience</th>\n",
       "      <th>Salary</th>\n",
       "    </tr>\n",
       "  </thead>\n",
       "  <tbody>\n",
       "    <tr>\n",
       "      <th>0</th>\n",
       "      <td>32.0</td>\n",
       "      <td>Male</td>\n",
       "      <td>Bachelor's</td>\n",
       "      <td>Software Engineer</td>\n",
       "      <td>5.0</td>\n",
       "      <td>90000.0</td>\n",
       "    </tr>\n",
       "    <tr>\n",
       "      <th>1</th>\n",
       "      <td>28.0</td>\n",
       "      <td>Female</td>\n",
       "      <td>Master's</td>\n",
       "      <td>Data Analyst</td>\n",
       "      <td>3.0</td>\n",
       "      <td>65000.0</td>\n",
       "    </tr>\n",
       "    <tr>\n",
       "      <th>2</th>\n",
       "      <td>45.0</td>\n",
       "      <td>Male</td>\n",
       "      <td>PhD</td>\n",
       "      <td>Senior Manager</td>\n",
       "      <td>15.0</td>\n",
       "      <td>150000.0</td>\n",
       "    </tr>\n",
       "    <tr>\n",
       "      <th>3</th>\n",
       "      <td>36.0</td>\n",
       "      <td>Female</td>\n",
       "      <td>Bachelor's</td>\n",
       "      <td>Sales Associate</td>\n",
       "      <td>7.0</td>\n",
       "      <td>60000.0</td>\n",
       "    </tr>\n",
       "    <tr>\n",
       "      <th>4</th>\n",
       "      <td>52.0</td>\n",
       "      <td>Male</td>\n",
       "      <td>Master's</td>\n",
       "      <td>Director</td>\n",
       "      <td>20.0</td>\n",
       "      <td>200000.0</td>\n",
       "    </tr>\n",
       "    <tr>\n",
       "      <th>...</th>\n",
       "      <td>...</td>\n",
       "      <td>...</td>\n",
       "      <td>...</td>\n",
       "      <td>...</td>\n",
       "      <td>...</td>\n",
       "      <td>...</td>\n",
       "    </tr>\n",
       "    <tr>\n",
       "      <th>370</th>\n",
       "      <td>35.0</td>\n",
       "      <td>Female</td>\n",
       "      <td>Bachelor's</td>\n",
       "      <td>Senior Marketing Analyst</td>\n",
       "      <td>8.0</td>\n",
       "      <td>85000.0</td>\n",
       "    </tr>\n",
       "    <tr>\n",
       "      <th>371</th>\n",
       "      <td>43.0</td>\n",
       "      <td>Male</td>\n",
       "      <td>Master's</td>\n",
       "      <td>Director of Operations</td>\n",
       "      <td>19.0</td>\n",
       "      <td>170000.0</td>\n",
       "    </tr>\n",
       "    <tr>\n",
       "      <th>372</th>\n",
       "      <td>29.0</td>\n",
       "      <td>Female</td>\n",
       "      <td>Bachelor's</td>\n",
       "      <td>Junior Project Manager</td>\n",
       "      <td>2.0</td>\n",
       "      <td>40000.0</td>\n",
       "    </tr>\n",
       "    <tr>\n",
       "      <th>373</th>\n",
       "      <td>34.0</td>\n",
       "      <td>Male</td>\n",
       "      <td>Bachelor's</td>\n",
       "      <td>Senior Operations Coordinator</td>\n",
       "      <td>7.0</td>\n",
       "      <td>90000.0</td>\n",
       "    </tr>\n",
       "    <tr>\n",
       "      <th>374</th>\n",
       "      <td>44.0</td>\n",
       "      <td>Female</td>\n",
       "      <td>PhD</td>\n",
       "      <td>Senior Business Analyst</td>\n",
       "      <td>15.0</td>\n",
       "      <td>150000.0</td>\n",
       "    </tr>\n",
       "  </tbody>\n",
       "</table>\n",
       "<p>375 rows × 6 columns</p>\n",
       "</div>"
      ],
      "text/plain": [
       "      Age  Gender Education Level                      Job Title  \\\n",
       "0    32.0    Male      Bachelor's              Software Engineer   \n",
       "1    28.0  Female        Master's                   Data Analyst   \n",
       "2    45.0    Male             PhD                 Senior Manager   \n",
       "3    36.0  Female      Bachelor's                Sales Associate   \n",
       "4    52.0    Male        Master's                       Director   \n",
       "..    ...     ...             ...                            ...   \n",
       "370  35.0  Female      Bachelor's       Senior Marketing Analyst   \n",
       "371  43.0    Male        Master's         Director of Operations   \n",
       "372  29.0  Female      Bachelor's         Junior Project Manager   \n",
       "373  34.0    Male      Bachelor's  Senior Operations Coordinator   \n",
       "374  44.0  Female             PhD        Senior Business Analyst   \n",
       "\n",
       "     Years of Experience    Salary  \n",
       "0                    5.0   90000.0  \n",
       "1                    3.0   65000.0  \n",
       "2                   15.0  150000.0  \n",
       "3                    7.0   60000.0  \n",
       "4                   20.0  200000.0  \n",
       "..                   ...       ...  \n",
       "370                  8.0   85000.0  \n",
       "371                 19.0  170000.0  \n",
       "372                  2.0   40000.0  \n",
       "373                  7.0   90000.0  \n",
       "374                 15.0  150000.0  \n",
       "\n",
       "[375 rows x 6 columns]"
      ]
     },
     "execution_count": 5,
     "metadata": {},
     "output_type": "execute_result"
    }
   ],
   "source": [
    "salary"
   ]
  },
  {
   "cell_type": "code",
   "execution_count": 6,
   "id": "fb82bd8f",
   "metadata": {},
   "outputs": [
    {
     "name": "stdout",
     "output_type": "stream",
     "text": [
      "<class 'pandas.core.frame.DataFrame'>\n",
      "RangeIndex: 375 entries, 0 to 374\n",
      "Data columns (total 6 columns):\n",
      " #   Column               Non-Null Count  Dtype  \n",
      "---  ------               --------------  -----  \n",
      " 0   Age                  373 non-null    float64\n",
      " 1   Gender               373 non-null    object \n",
      " 2   Education Level      373 non-null    object \n",
      " 3   Job Title            373 non-null    object \n",
      " 4   Years of Experience  373 non-null    float64\n",
      " 5   Salary               373 non-null    float64\n",
      "dtypes: float64(3), object(3)\n",
      "memory usage: 17.7+ KB\n"
     ]
    }
   ],
   "source": [
    "salary.info()"
   ]
  },
  {
   "cell_type": "code",
   "execution_count": 7,
   "id": "c9641715",
   "metadata": {},
   "outputs": [
    {
     "data": {
      "text/plain": [
       "Age                    2\n",
       "Gender                 2\n",
       "Education Level        2\n",
       "Job Title              2\n",
       "Years of Experience    2\n",
       "Salary                 2\n",
       "dtype: int64"
      ]
     },
     "execution_count": 7,
     "metadata": {},
     "output_type": "execute_result"
    }
   ],
   "source": [
    "# Find if there are any null entries\n",
    "salary.isnull().sum()"
   ]
  },
  {
   "cell_type": "code",
   "execution_count": 8,
   "id": "b49597cd",
   "metadata": {},
   "outputs": [
    {
     "data": {
      "text/html": [
       "<div>\n",
       "<style scoped>\n",
       "    .dataframe tbody tr th:only-of-type {\n",
       "        vertical-align: middle;\n",
       "    }\n",
       "\n",
       "    .dataframe tbody tr th {\n",
       "        vertical-align: top;\n",
       "    }\n",
       "\n",
       "    .dataframe thead th {\n",
       "        text-align: right;\n",
       "    }\n",
       "</style>\n",
       "<table border=\"1\" class=\"dataframe\">\n",
       "  <thead>\n",
       "    <tr style=\"text-align: right;\">\n",
       "      <th></th>\n",
       "      <th>Age</th>\n",
       "      <th>Gender</th>\n",
       "      <th>Education Level</th>\n",
       "      <th>Job Title</th>\n",
       "      <th>Years of Experience</th>\n",
       "      <th>Salary</th>\n",
       "    </tr>\n",
       "  </thead>\n",
       "  <tbody>\n",
       "    <tr>\n",
       "      <th>172</th>\n",
       "      <td>NaN</td>\n",
       "      <td>NaN</td>\n",
       "      <td>NaN</td>\n",
       "      <td>NaN</td>\n",
       "      <td>NaN</td>\n",
       "      <td>NaN</td>\n",
       "    </tr>\n",
       "    <tr>\n",
       "      <th>260</th>\n",
       "      <td>NaN</td>\n",
       "      <td>NaN</td>\n",
       "      <td>NaN</td>\n",
       "      <td>NaN</td>\n",
       "      <td>NaN</td>\n",
       "      <td>NaN</td>\n",
       "    </tr>\n",
       "  </tbody>\n",
       "</table>\n",
       "</div>"
      ],
      "text/plain": [
       "     Age Gender Education Level Job Title  Years of Experience  Salary\n",
       "172  NaN    NaN             NaN       NaN                  NaN     NaN\n",
       "260  NaN    NaN             NaN       NaN                  NaN     NaN"
      ]
     },
     "execution_count": 8,
     "metadata": {},
     "output_type": "execute_result"
    }
   ],
   "source": [
    "salary[salary.isnull().any(axis=1)]"
   ]
  },
  {
   "cell_type": "code",
   "execution_count": 9,
   "id": "38abd3a3",
   "metadata": {},
   "outputs": [],
   "source": [
    "# Drop rows where the null entry is\n",
    "salary.dropna(inplace=True)\n",
    "salary.drop_duplicates(inplace=True)"
   ]
  },
  {
   "cell_type": "code",
   "execution_count": 10,
   "id": "5bd8b5d3",
   "metadata": {},
   "outputs": [
    {
     "data": {
      "text/html": [
       "<div>\n",
       "<style scoped>\n",
       "    .dataframe tbody tr th:only-of-type {\n",
       "        vertical-align: middle;\n",
       "    }\n",
       "\n",
       "    .dataframe tbody tr th {\n",
       "        vertical-align: top;\n",
       "    }\n",
       "\n",
       "    .dataframe thead th {\n",
       "        text-align: right;\n",
       "    }\n",
       "</style>\n",
       "<table border=\"1\" class=\"dataframe\">\n",
       "  <thead>\n",
       "    <tr style=\"text-align: right;\">\n",
       "      <th></th>\n",
       "      <th>Age</th>\n",
       "      <th>Years of Experience</th>\n",
       "      <th>Salary</th>\n",
       "    </tr>\n",
       "  </thead>\n",
       "  <tbody>\n",
       "    <tr>\n",
       "      <th>count</th>\n",
       "      <td>324.000000</td>\n",
       "      <td>324.000000</td>\n",
       "      <td>324.000000</td>\n",
       "    </tr>\n",
       "    <tr>\n",
       "      <th>mean</th>\n",
       "      <td>37.382716</td>\n",
       "      <td>10.058642</td>\n",
       "      <td>99985.648148</td>\n",
       "    </tr>\n",
       "    <tr>\n",
       "      <th>std</th>\n",
       "      <td>7.185844</td>\n",
       "      <td>6.650470</td>\n",
       "      <td>48652.271440</td>\n",
       "    </tr>\n",
       "    <tr>\n",
       "      <th>min</th>\n",
       "      <td>23.000000</td>\n",
       "      <td>0.000000</td>\n",
       "      <td>350.000000</td>\n",
       "    </tr>\n",
       "    <tr>\n",
       "      <th>25%</th>\n",
       "      <td>31.000000</td>\n",
       "      <td>4.000000</td>\n",
       "      <td>55000.000000</td>\n",
       "    </tr>\n",
       "    <tr>\n",
       "      <th>50%</th>\n",
       "      <td>36.500000</td>\n",
       "      <td>9.000000</td>\n",
       "      <td>95000.000000</td>\n",
       "    </tr>\n",
       "    <tr>\n",
       "      <th>75%</th>\n",
       "      <td>44.000000</td>\n",
       "      <td>16.000000</td>\n",
       "      <td>140000.000000</td>\n",
       "    </tr>\n",
       "    <tr>\n",
       "      <th>max</th>\n",
       "      <td>53.000000</td>\n",
       "      <td>25.000000</td>\n",
       "      <td>250000.000000</td>\n",
       "    </tr>\n",
       "  </tbody>\n",
       "</table>\n",
       "</div>"
      ],
      "text/plain": [
       "              Age  Years of Experience         Salary\n",
       "count  324.000000           324.000000     324.000000\n",
       "mean    37.382716            10.058642   99985.648148\n",
       "std      7.185844             6.650470   48652.271440\n",
       "min     23.000000             0.000000     350.000000\n",
       "25%     31.000000             4.000000   55000.000000\n",
       "50%     36.500000             9.000000   95000.000000\n",
       "75%     44.000000            16.000000  140000.000000\n",
       "max     53.000000            25.000000  250000.000000"
      ]
     },
     "execution_count": 10,
     "metadata": {},
     "output_type": "execute_result"
    }
   ],
   "source": [
    "salary.describe()"
   ]
  },
  {
   "cell_type": "code",
   "execution_count": 11,
   "id": "4519afaa",
   "metadata": {},
   "outputs": [
    {
     "data": {
      "text/plain": [
       "<seaborn.axisgrid.FacetGrid at 0x7f7b9a6bcd68>"
      ]
     },
     "execution_count": 11,
     "metadata": {},
     "output_type": "execute_result"
    },
    {
     "data": {
      "image/png": "[encoded data removed]",
      "text/plain": [
       "<Figure size 360x360 with 1 Axes>"
      ]
     },
     "metadata": {},
     "output_type": "display_data"
    }
   ],
   "source": [
    "sns.displot(salary['Salary'])"
   ]
  },
  {
   "cell_type": "code",
   "execution_count": 12,
   "id": "0bef6f1c",
   "metadata": {},
   "outputs": [
    {
     "data": {
      "image/png": "[encoded data removed]",
      "text/plain": [
       "<Figure size 432x288 with 1 Axes>"
      ]
     },
     "metadata": {},
     "output_type": "display_data"
    }
   ],
   "source": [
    "salary['Education Level'].value_counts().plot(kind='line')\n",
    "plt.show()"
   ]
  },
  {
   "cell_type": "code",
   "execution_count": 13,
   "id": "548aaf70",
   "metadata": {},
   "outputs": [
    {
     "data": {
      "image/png": "[encoded data removed]",
      "text/plain": [
       "<Figure size 432x288 with 1 Axes>"
      ]
     },
     "metadata": {},
     "output_type": "display_data"
    }
   ],
   "source": [
    "salary['Education Level'].value_counts().plot(kind='bar')\n",
    "plt.show()"
   ]
  },
  {
   "cell_type": "code",
   "execution_count": 221,
   "id": "b8b6c975",
   "metadata": {},
   "outputs": [
    {
     "data": {
      "image/png": "[encoded data removed]",
      "text/plain": [
       "<Figure size 432x288 with 1 Axes>"
      ]
     },
     "metadata": {},
     "output_type": "display_data"
    }
   ],
   "source": [
    "salary['Education Level'].value_counts().plot(kind='pie')\n",
    "plt.show()"
   ]
  },
  {
   "cell_type": "code",
   "execution_count": 14,
   "id": "1178490d",
   "metadata": {},
   "outputs": [
    {
     "data": {
      "image/png": "[encoded data removed]",
      "text/plain": [
       "<Figure size 432x288 with 1 Axes>"
      ]
     },
     "metadata": {},
     "output_type": "display_data"
    }
   ],
   "source": [
    "salary['Job Title'].value_counts().head(20).plot(kind='bar')\n",
    "plt.show()"
   ]
  },
  {
   "cell_type": "code",
   "execution_count": 15,
   "id": "7f1ae60f",
   "metadata": {},
   "outputs": [
    {
     "data": {
      "image/png": "[encoded data removed]",
      "text/plain": [
       "<Figure size 432x288 with 1 Axes>"
      ]
     },
     "metadata": {},
     "output_type": "display_data"
    }
   ],
   "source": [
    "salary['Years of Experience'].value_counts().plot(kind='bar')\n",
    "plt.show()"
   ]
  },
  {
   "cell_type": "code",
   "execution_count": 223,
   "id": "684ec412",
   "metadata": {},
   "outputs": [],
   "source": [
    "salary_cleaned = pd.get_dummies(salary, columns=['Gender', 'Education Level', 'Job Title'], drop_first=True)\n",
    "\n",
    "## If you are getting true or false select dtype = int\n",
    "## drop_first = True, \n",
    "\n",
    "# Dropping the first level when creating the dummy variables through one-hot encoding is primarily done\n",
    "# to avoid multicollinearity and reduce redundancy in the dataset. Including fewer dummy variables can lead to\n",
    "# more effecient models especially when dealing with large datasets or complex models"
   ]
  },
  {
   "cell_type": "code",
   "execution_count": 224,
   "id": "2ab446c6",
   "metadata": {},
   "outputs": [
    {
     "data": {
      "text/html": [
       "<div>\n",
       "<style scoped>\n",
       "    .dataframe tbody tr th:only-of-type {\n",
       "        vertical-align: middle;\n",
       "    }\n",
       "\n",
       "    .dataframe tbody tr th {\n",
       "        vertical-align: top;\n",
       "    }\n",
       "\n",
       "    .dataframe thead th {\n",
       "        text-align: right;\n",
       "    }\n",
       "</style>\n",
       "<table border=\"1\" class=\"dataframe\">\n",
       "  <thead>\n",
       "    <tr style=\"text-align: right;\">\n",
       "      <th></th>\n",
       "      <th>Age</th>\n",
       "      <th>Years of Experience</th>\n",
       "      <th>Salary</th>\n",
       "      <th>Gender_Male</th>\n",
       "      <th>Education Level_Master's</th>\n",
       "      <th>Education Level_PhD</th>\n",
       "      <th>Job Title_Accountant</th>\n",
       "      <th>Job Title_Administrative Assistant</th>\n",
       "      <th>Job Title_Business Analyst</th>\n",
       "      <th>Job Title_Business Development Manager</th>\n",
       "      <th>...</th>\n",
       "      <th>Job Title_Supply Chain Manager</th>\n",
       "      <th>Job Title_Technical Recruiter</th>\n",
       "      <th>Job Title_Technical Support Specialist</th>\n",
       "      <th>Job Title_Technical Writer</th>\n",
       "      <th>Job Title_Training Specialist</th>\n",
       "      <th>Job Title_UX Designer</th>\n",
       "      <th>Job Title_UX Researcher</th>\n",
       "      <th>Job Title_VP of Finance</th>\n",
       "      <th>Job Title_VP of Operations</th>\n",
       "      <th>Job Title_Web Developer</th>\n",
       "    </tr>\n",
       "  </thead>\n",
       "  <tbody>\n",
       "    <tr>\n",
       "      <th>0</th>\n",
       "      <td>32.0</td>\n",
       "      <td>5.0</td>\n",
       "      <td>90000.0</td>\n",
       "      <td>1</td>\n",
       "      <td>0</td>\n",
       "      <td>0</td>\n",
       "      <td>0</td>\n",
       "      <td>0</td>\n",
       "      <td>0</td>\n",
       "      <td>0</td>\n",
       "      <td>...</td>\n",
       "      <td>0</td>\n",
       "      <td>0</td>\n",
       "      <td>0</td>\n",
       "      <td>0</td>\n",
       "      <td>0</td>\n",
       "      <td>0</td>\n",
       "      <td>0</td>\n",
       "      <td>0</td>\n",
       "      <td>0</td>\n",
       "      <td>0</td>\n",
       "    </tr>\n",
       "    <tr>\n",
       "      <th>1</th>\n",
       "      <td>28.0</td>\n",
       "      <td>3.0</td>\n",
       "      <td>65000.0</td>\n",
       "      <td>0</td>\n",
       "      <td>1</td>\n",
       "      <td>0</td>\n",
       "      <td>0</td>\n",
       "      <td>0</td>\n",
       "      <td>0</td>\n",
       "      <td>0</td>\n",
       "      <td>...</td>\n",
       "      <td>0</td>\n",
       "      <td>0</td>\n",
       "      <td>0</td>\n",
       "      <td>0</td>\n",
       "      <td>0</td>\n",
       "      <td>0</td>\n",
       "      <td>0</td>\n",
       "      <td>0</td>\n",
       "      <td>0</td>\n",
       "      <td>0</td>\n",
       "    </tr>\n",
       "    <tr>\n",
       "      <th>2</th>\n",
       "      <td>45.0</td>\n",
       "      <td>15.0</td>\n",
       "      <td>150000.0</td>\n",
       "      <td>1</td>\n",
       "      <td>0</td>\n",
       "      <td>1</td>\n",
       "      <td>0</td>\n",
       "      <td>0</td>\n",
       "      <td>0</td>\n",
       "      <td>0</td>\n",
       "      <td>...</td>\n",
       "      <td>0</td>\n",
       "      <td>0</td>\n",
       "      <td>0</td>\n",
       "      <td>0</td>\n",
       "      <td>0</td>\n",
       "      <td>0</td>\n",
       "      <td>0</td>\n",
       "      <td>0</td>\n",
       "      <td>0</td>\n",
       "      <td>0</td>\n",
       "    </tr>\n",
       "    <tr>\n",
       "      <th>3</th>\n",
       "      <td>36.0</td>\n",
       "      <td>7.0</td>\n",
       "      <td>60000.0</td>\n",
       "      <td>0</td>\n",
       "      <td>0</td>\n",
       "      <td>0</td>\n",
       "      <td>0</td>\n",
       "      <td>0</td>\n",
       "      <td>0</td>\n",
       "      <td>0</td>\n",
       "      <td>...</td>\n",
       "      <td>0</td>\n",
       "      <td>0</td>\n",
       "      <td>0</td>\n",
       "      <td>0</td>\n",
       "      <td>0</td>\n",
       "      <td>0</td>\n",
       "      <td>0</td>\n",
       "      <td>0</td>\n",
       "      <td>0</td>\n",
       "      <td>0</td>\n",
       "    </tr>\n",
       "    <tr>\n",
       "      <th>4</th>\n",
       "      <td>52.0</td>\n",
       "      <td>20.0</td>\n",
       "      <td>200000.0</td>\n",
       "      <td>1</td>\n",
       "      <td>1</td>\n",
       "      <td>0</td>\n",
       "      <td>0</td>\n",
       "      <td>0</td>\n",
       "      <td>0</td>\n",
       "      <td>0</td>\n",
       "      <td>...</td>\n",
       "      <td>0</td>\n",
       "      <td>0</td>\n",
       "      <td>0</td>\n",
       "      <td>0</td>\n",
       "      <td>0</td>\n",
       "      <td>0</td>\n",
       "      <td>0</td>\n",
       "      <td>0</td>\n",
       "      <td>0</td>\n",
       "      <td>0</td>\n",
       "    </tr>\n",
       "    <tr>\n",
       "      <th>...</th>\n",
       "      <td>...</td>\n",
       "      <td>...</td>\n",
       "      <td>...</td>\n",
       "      <td>...</td>\n",
       "      <td>...</td>\n",
       "      <td>...</td>\n",
       "      <td>...</td>\n",
       "      <td>...</td>\n",
       "      <td>...</td>\n",
       "      <td>...</td>\n",
       "      <td>...</td>\n",
       "      <td>...</td>\n",
       "      <td>...</td>\n",
       "      <td>...</td>\n",
       "      <td>...</td>\n",
       "      <td>...</td>\n",
       "      <td>...</td>\n",
       "      <td>...</td>\n",
       "      <td>...</td>\n",
       "      <td>...</td>\n",
       "      <td>...</td>\n",
       "    </tr>\n",
       "    <tr>\n",
       "      <th>348</th>\n",
       "      <td>28.0</td>\n",
       "      <td>1.0</td>\n",
       "      <td>35000.0</td>\n",
       "      <td>0</td>\n",
       "      <td>0</td>\n",
       "      <td>0</td>\n",
       "      <td>0</td>\n",
       "      <td>0</td>\n",
       "      <td>0</td>\n",
       "      <td>0</td>\n",
       "      <td>...</td>\n",
       "      <td>0</td>\n",
       "      <td>0</td>\n",
       "      <td>0</td>\n",
       "      <td>0</td>\n",
       "      <td>0</td>\n",
       "      <td>0</td>\n",
       "      <td>0</td>\n",
       "      <td>0</td>\n",
       "      <td>0</td>\n",
       "      <td>0</td>\n",
       "    </tr>\n",
       "    <tr>\n",
       "      <th>349</th>\n",
       "      <td>36.0</td>\n",
       "      <td>8.0</td>\n",
       "      <td>110000.0</td>\n",
       "      <td>1</td>\n",
       "      <td>0</td>\n",
       "      <td>0</td>\n",
       "      <td>0</td>\n",
       "      <td>0</td>\n",
       "      <td>0</td>\n",
       "      <td>0</td>\n",
       "      <td>...</td>\n",
       "      <td>0</td>\n",
       "      <td>0</td>\n",
       "      <td>0</td>\n",
       "      <td>0</td>\n",
       "      <td>0</td>\n",
       "      <td>0</td>\n",
       "      <td>0</td>\n",
       "      <td>0</td>\n",
       "      <td>0</td>\n",
       "      <td>0</td>\n",
       "    </tr>\n",
       "    <tr>\n",
       "      <th>350</th>\n",
       "      <td>44.0</td>\n",
       "      <td>16.0</td>\n",
       "      <td>160000.0</td>\n",
       "      <td>0</td>\n",
       "      <td>0</td>\n",
       "      <td>1</td>\n",
       "      <td>0</td>\n",
       "      <td>0</td>\n",
       "      <td>0</td>\n",
       "      <td>0</td>\n",
       "      <td>...</td>\n",
       "      <td>0</td>\n",
       "      <td>0</td>\n",
       "      <td>0</td>\n",
       "      <td>0</td>\n",
       "      <td>0</td>\n",
       "      <td>0</td>\n",
       "      <td>0</td>\n",
       "      <td>0</td>\n",
       "      <td>0</td>\n",
       "      <td>0</td>\n",
       "    </tr>\n",
       "    <tr>\n",
       "      <th>351</th>\n",
       "      <td>31.0</td>\n",
       "      <td>3.0</td>\n",
       "      <td>55000.0</td>\n",
       "      <td>1</td>\n",
       "      <td>0</td>\n",
       "      <td>0</td>\n",
       "      <td>0</td>\n",
       "      <td>0</td>\n",
       "      <td>0</td>\n",
       "      <td>0</td>\n",
       "      <td>...</td>\n",
       "      <td>0</td>\n",
       "      <td>0</td>\n",
       "      <td>0</td>\n",
       "      <td>0</td>\n",
       "      <td>0</td>\n",
       "      <td>0</td>\n",
       "      <td>0</td>\n",
       "      <td>0</td>\n",
       "      <td>0</td>\n",
       "      <td>0</td>\n",
       "    </tr>\n",
       "    <tr>\n",
       "      <th>371</th>\n",
       "      <td>43.0</td>\n",
       "      <td>19.0</td>\n",
       "      <td>170000.0</td>\n",
       "      <td>1</td>\n",
       "      <td>1</td>\n",
       "      <td>0</td>\n",
       "      <td>0</td>\n",
       "      <td>0</td>\n",
       "      <td>0</td>\n",
       "      <td>0</td>\n",
       "      <td>...</td>\n",
       "      <td>0</td>\n",
       "      <td>0</td>\n",
       "      <td>0</td>\n",
       "      <td>0</td>\n",
       "      <td>0</td>\n",
       "      <td>0</td>\n",
       "      <td>0</td>\n",
       "      <td>0</td>\n",
       "      <td>0</td>\n",
       "      <td>0</td>\n",
       "    </tr>\n",
       "  </tbody>\n",
       "</table>\n",
       "<p>324 rows × 179 columns</p>\n",
       "</div>"
      ],
      "text/plain": [
       "      Age  Years of Experience    Salary  Gender_Male  \\\n",
       "0    32.0                  5.0   90000.0            1   \n",
       "1    28.0                  3.0   65000.0            0   \n",
       "2    45.0                 15.0  150000.0            1   \n",
       "3    36.0                  7.0   60000.0            0   \n",
       "4    52.0                 20.0  200000.0            1   \n",
       "..    ...                  ...       ...          ...   \n",
       "348  28.0                  1.0   35000.0            0   \n",
       "349  36.0                  8.0  110000.0            1   \n",
       "350  44.0                 16.0  160000.0            0   \n",
       "351  31.0                  3.0   55000.0            1   \n",
       "371  43.0                 19.0  170000.0            1   \n",
       "\n",
       "     Education Level_Master's  Education Level_PhD  Job Title_Accountant  \\\n",
       "0                           0                    0                     0   \n",
       "1                           1                    0                     0   \n",
       "2                           0                    1                     0   \n",
       "3                           0                    0                     0   \n",
       "4                           1                    0                     0   \n",
       "..                        ...                  ...                   ...   \n",
       "348                         0                    0                     0   \n",
       "349                         0                    0                     0   \n",
       "350                         0                    1                     0   \n",
       "351                         0                    0                     0   \n",
       "371                         1                    0                     0   \n",
       "\n",
       "     Job Title_Administrative Assistant  Job Title_Business Analyst  \\\n",
       "0                                     0                           0   \n",
       "1                                     0                           0   \n",
       "2                                     0                           0   \n",
       "3                                     0                           0   \n",
       "4                                     0                           0   \n",
       "..                                  ...                         ...   \n",
       "348                                   0                           0   \n",
       "349                                   0                           0   \n",
       "350                                   0                           0   \n",
       "351                                   0                           0   \n",
       "371                                   0                           0   \n",
       "\n",
       "     Job Title_Business Development Manager  ...  \\\n",
       "0                                         0  ...   \n",
       "1                                         0  ...   \n",
       "2                                         0  ...   \n",
       "3                                         0  ...   \n",
       "4                                         0  ...   \n",
       "..                                      ...  ...   \n",
       "348                                       0  ...   \n",
       "349                                       0  ...   \n",
       "350                                       0  ...   \n",
       "351                                       0  ...   \n",
       "371                                       0  ...   \n",
       "\n",
       "     Job Title_Supply Chain Manager  Job Title_Technical Recruiter  \\\n",
       "0                                 0                              0   \n",
       "1                                 0                              0   \n",
       "2                                 0                              0   \n",
       "3                                 0                              0   \n",
       "4                                 0                              0   \n",
       "..                              ...                            ...   \n",
       "348                               0                              0   \n",
       "349                               0                              0   \n",
       "350                               0                              0   \n",
       "351                               0                              0   \n",
       "371                               0                              0   \n",
       "\n",
       "     Job Title_Technical Support Specialist  Job Title_Technical Writer  \\\n",
       "0                                         0                           0   \n",
       "1                                         0                           0   \n",
       "2                                         0                           0   \n",
       "3                                         0                           0   \n",
       "4                                         0                           0   \n",
       "..                                      ...                         ...   \n",
       "348                                       0                           0   \n",
       "349                                       0                           0   \n",
       "350                                       0                           0   \n",
       "351                                       0                           0   \n",
       "371                                       0                           0   \n",
       "\n",
       "     Job Title_Training Specialist  Job Title_UX Designer  \\\n",
       "0                                0                      0   \n",
       "1                                0                      0   \n",
       "2                                0                      0   \n",
       "3                                0                      0   \n",
       "4                                0                      0   \n",
       "..                             ...                    ...   \n",
       "348                              0                      0   \n",
       "349                              0                      0   \n",
       "350                              0                      0   \n",
       "351                              0                      0   \n",
       "371                              0                      0   \n",
       "\n",
       "     Job Title_UX Researcher  Job Title_VP of Finance  \\\n",
       "0                          0                        0   \n",
       "1                          0                        0   \n",
       "2                          0                        0   \n",
       "3                          0                        0   \n",
       "4                          0                        0   \n",
       "..                       ...                      ...   \n",
       "348                        0                        0   \n",
       "349                        0                        0   \n",
       "350                        0                        0   \n",
       "351                        0                        0   \n",
       "371                        0                        0   \n",
       "\n",
       "     Job Title_VP of Operations  Job Title_Web Developer  \n",
       "0                             0                        0  \n",
       "1                             0                        0  \n",
       "2                             0                        0  \n",
       "3                             0                        0  \n",
       "4                             0                        0  \n",
       "..                          ...                      ...  \n",
       "348                           0                        0  \n",
       "349                           0                        0  \n",
       "350                           0                        0  \n",
       "351                           0                        0  \n",
       "371                           0                        0  \n",
       "\n",
       "[324 rows x 179 columns]"
      ]
     },
     "execution_count": 224,
     "metadata": {},
     "output_type": "execute_result"
    }
   ],
   "source": [
    "salary_cleaned"
   ]
  },
  {
   "cell_type": "code",
   "execution_count": 225,
   "id": "8200b6f3",
   "metadata": {},
   "outputs": [],
   "source": [
    "X = salary_cleaned.drop(['Salary'], axis=1) # This is the output so we keeping it seperate - axis=1 specifies the column\n",
    "y = salary_cleaned['Salary']"
   ]
  },
  {
   "cell_type": "code",
   "execution_count": 226,
   "id": "11686266",
   "metadata": {},
   "outputs": [],
   "source": [
    "# Splitting the dataset in test and train \n",
    "\n",
    "X_train, X_test, y_train, y_test = train_test_split(X, y, test_size=0.2, random_state=101)\n"
   ]
  },
  {
   "cell_type": "code",
   "execution_count": 227,
   "id": "edfa0f2a",
   "metadata": {},
   "outputs": [
    {
     "name": "stdout",
     "output_type": "stream",
     "text": [
      "Linear Regression Model Trained Successfully!\n"
     ]
    }
   ],
   "source": [
    "## Linear Rregression - Training the model\n",
    "\n",
    "lm = LinearRegression()\n",
    "lm.fit(X_train, y_train) # Remember Here: We are Passing the training data to the model\n",
    "print(\"Linear Regression Model Trained Successfully!\")\n"
   ]
  },
  {
   "cell_type": "code",
   "execution_count": 228,
   "id": "4bc4bad4",
   "metadata": {},
   "outputs": [
    {
     "name": "stdout",
     "output_type": "stream",
     "text": [
      "['Age', 'Years of Experience', 'Gender_Male', \"Education Level_Master's\", 'Education Level_PhD', 'Job Title_Accountant', 'Job Title_Administrative Assistant', 'Job Title_Business Analyst', 'Job Title_Business Development Manager', 'Job Title_Business Intelligence Analyst', 'Job Title_CEO', 'Job Title_Chief Data Officer', 'Job Title_Chief Technology Officer', 'Job Title_Content Marketing Manager', 'Job Title_Copywriter', 'Job Title_Creative Director', 'Job Title_Customer Service Manager', 'Job Title_Customer Service Rep', 'Job Title_Customer Service Representative', 'Job Title_Customer Success Manager', 'Job Title_Customer Success Rep', 'Job Title_Data Analyst', 'Job Title_Data Entry Clerk', 'Job Title_Data Scientist', 'Job Title_Digital Content Producer', 'Job Title_Digital Marketing Manager', 'Job Title_Director', 'Job Title_Director of Business Development', 'Job Title_Director of Engineering', 'Job Title_Director of Finance', 'Job Title_Director of HR', 'Job Title_Director of Human Capital', 'Job Title_Director of Human Resources', 'Job Title_Director of Marketing', 'Job Title_Director of Operations', 'Job Title_Director of Product Management', 'Job Title_Director of Sales', 'Job Title_Director of Sales and Marketing', 'Job Title_Event Coordinator', 'Job Title_Financial Advisor', 'Job Title_Financial Analyst', 'Job Title_Financial Manager', 'Job Title_Graphic Designer', 'Job Title_HR Generalist', 'Job Title_HR Manager', 'Job Title_Help Desk Analyst', 'Job Title_Human Resources Director', 'Job Title_IT Manager', 'Job Title_IT Support', 'Job Title_IT Support Specialist', 'Job Title_Junior Account Manager', 'Job Title_Junior Accountant', 'Job Title_Junior Advertising Coordinator', 'Job Title_Junior Business Analyst', 'Job Title_Junior Business Development Associate', 'Job Title_Junior Business Operations Analyst', 'Job Title_Junior Copywriter', 'Job Title_Junior Customer Support Specialist', 'Job Title_Junior Data Analyst', 'Job Title_Junior Data Scientist', 'Job Title_Junior Designer', 'Job Title_Junior Developer', 'Job Title_Junior Financial Advisor', 'Job Title_Junior Financial Analyst', 'Job Title_Junior HR Coordinator', 'Job Title_Junior HR Generalist', 'Job Title_Junior Marketing Analyst', 'Job Title_Junior Marketing Coordinator', 'Job Title_Junior Marketing Manager', 'Job Title_Junior Marketing Specialist', 'Job Title_Junior Operations Analyst', 'Job Title_Junior Operations Coordinator', 'Job Title_Junior Operations Manager', 'Job Title_Junior Product Manager', 'Job Title_Junior Project Manager', 'Job Title_Junior Recruiter', 'Job Title_Junior Research Scientist', 'Job Title_Junior Sales Representative', 'Job Title_Junior Social Media Manager', 'Job Title_Junior Social Media Specialist', 'Job Title_Junior Software Developer', 'Job Title_Junior Software Engineer', 'Job Title_Junior UX Designer', 'Job Title_Junior Web Designer', 'Job Title_Junior Web Developer', 'Job Title_Marketing Analyst', 'Job Title_Marketing Coordinator', 'Job Title_Marketing Manager', 'Job Title_Marketing Specialist', 'Job Title_Network Engineer', 'Job Title_Office Manager', 'Job Title_Operations Analyst', 'Job Title_Operations Director', 'Job Title_Operations Manager', 'Job Title_Principal Engineer', 'Job Title_Principal Scientist', 'Job Title_Product Designer', 'Job Title_Product Manager', 'Job Title_Product Marketing Manager', 'Job Title_Project Engineer', 'Job Title_Project Manager', 'Job Title_Public Relations Manager', 'Job Title_Recruiter', 'Job Title_Research Director', 'Job Title_Research Scientist', 'Job Title_Sales Associate', 'Job Title_Sales Director', 'Job Title_Sales Executive', 'Job Title_Sales Manager', 'Job Title_Sales Operations Manager', 'Job Title_Sales Representative', 'Job Title_Senior Account Executive', 'Job Title_Senior Account Manager', 'Job Title_Senior Accountant', 'Job Title_Senior Business Analyst', 'Job Title_Senior Business Development Manager', 'Job Title_Senior Consultant', 'Job Title_Senior Data Analyst', 'Job Title_Senior Data Engineer', 'Job Title_Senior Data Scientist', 'Job Title_Senior Engineer', 'Job Title_Senior Financial Advisor', 'Job Title_Senior Financial Analyst', 'Job Title_Senior Financial Manager', 'Job Title_Senior Graphic Designer', 'Job Title_Senior HR Generalist', 'Job Title_Senior HR Manager', 'Job Title_Senior HR Specialist', 'Job Title_Senior Human Resources Coordinator', 'Job Title_Senior Human Resources Manager', 'Job Title_Senior Human Resources Specialist', 'Job Title_Senior IT Consultant', 'Job Title_Senior IT Project Manager', 'Job Title_Senior IT Support Specialist', 'Job Title_Senior Manager', 'Job Title_Senior Marketing Analyst', 'Job Title_Senior Marketing Coordinator', 'Job Title_Senior Marketing Director', 'Job Title_Senior Marketing Manager', 'Job Title_Senior Marketing Specialist', 'Job Title_Senior Operations Analyst', 'Job Title_Senior Operations Coordinator', 'Job Title_Senior Operations Manager', 'Job Title_Senior Product Designer', 'Job Title_Senior Product Development Manager', 'Job Title_Senior Product Manager', 'Job Title_Senior Product Marketing Manager', 'Job Title_Senior Project Coordinator', 'Job Title_Senior Project Manager', 'Job Title_Senior Quality Assurance Analyst', 'Job Title_Senior Research Scientist', 'Job Title_Senior Researcher', 'Job Title_Senior Sales Manager', 'Job Title_Senior Sales Representative', 'Job Title_Senior Scientist', 'Job Title_Senior Software Architect', 'Job Title_Senior Software Developer', 'Job Title_Senior Software Engineer', 'Job Title_Senior Training Specialist', 'Job Title_Senior UX Designer', 'Job Title_Social Media Manager', 'Job Title_Social Media Specialist', 'Job Title_Software Developer', 'Job Title_Software Engineer', 'Job Title_Software Manager', 'Job Title_Software Project Manager', 'Job Title_Strategy Consultant', 'Job Title_Supply Chain Analyst', 'Job Title_Supply Chain Manager', 'Job Title_Technical Recruiter', 'Job Title_Technical Support Specialist', 'Job Title_Technical Writer', 'Job Title_Training Specialist', 'Job Title_UX Designer', 'Job Title_UX Researcher', 'Job Title_VP of Finance', 'Job Title_VP of Operations', 'Job Title_Web Developer']\n"
     ]
    }
   ],
   "source": [
    "trained_feature_names = X_train.columns.tolist()\n",
    "print(trained_feature_names)"
   ]
  },
  {
   "cell_type": "code",
   "execution_count": 254,
   "id": "a2c4d5f3",
   "metadata": {},
   "outputs": [],
   "source": [
    "input_age = 25.0\n",
    "input_gender = \"Male\"\n",
    "input_education_level = \"Master's\"\n",
    "input_job_title = \"Senior Data Engineer\"\n",
    "input_years_of_experience = 3\n",
    "\n",
    "\n",
    "# Preprocess the input data to match the training format\n",
    "input_data = pd.DataFrame({\n",
    "    'Age': [input_age],\n",
    "    'Gender_Male': [1 if input_gender == 'Male' else 0],\n",
    "    'Gender_Female': [1 if input_gender == 'Female' else 0],\n",
    "    'Education Level_Bachelor\\'s': [1 if input_education_level == \"Bachelor's\" else 0],\n",
    "    'Education Level_Master\\'s': [1 if input_education_level == \"Master's\" else 0],\n",
    "    'Education Level_PhD': [1 if input_education_level == \"PhD\" else 0],\n",
    "    # for Job titles\n",
    "    'Job Title_Software Engineer': [1 if input_job_title == 'Software Engineer' else 0],\n",
    "    'Job Title_Accountant': [1 if input_job_title == 'Accountant' else 0],\n",
    "    'Job Title_Administrative Assistant': [1 if input_job_title == 'Administrative Assistant' else 0],\n",
    "    'Job Title_Business Analyst': [1 if input_job_title == 'Business Analyst' else 0],\n",
    "    'Job Title_Business Development Manager': [1 if input_job_title == 'Business Development Manager' else 0],\n",
    "    'Job Title_Business Intelligence Analyst': [1 if input_job_title == 'Business Intelligence Analyst' else 0],\n",
    "    'Job Title_CEO': [1 if input_job_title == 'CEO' else 0],\n",
    "    'Job Title_Chief Data Officer': [1 if input_job_title == 'Chief Data Officer' else 0],\n",
    "    'Job Title_Chief Technology Officer': [1 if input_job_title == 'Chief Technology Officer' else 0],\n",
    "    'Job Title_Content Marketing Manager': [1 if input_job_title == 'Content Marketing Manager' else 0],\n",
    "    'Job Title_Copywriter': [1 if input_job_title == 'Copywriter' else 0],\n",
    "    'Job Title_Creative Director': [1 if input_job_title == 'Creative Director' else 0],\n",
    "    'Job Title_Customer Service Manager': [1 if input_job_title == 'Customer Service Manager' else 0],\n",
    "    'Job Title_Customer Service Rep': [1 if input_job_title == 'Customer Service Rep' else 0],\n",
    "    'Job Title_Customer Service Representative': [1 if input_job_title == 'Customer Service Representative' else 0],\n",
    "    'Job Title_Customer Success Manager': [1 if input_job_title == 'Customer Success Manager' else 0],\n",
    "    'Job Title_Customer Success Rep': [1 if input_job_title == 'Customer Success Rep' else 0],\n",
    "    'Job Title_Data Analyst': [1 if input_job_title == 'Data Analyst' else 0],\n",
    "    'Job Title_Data Entry Clerk': [1 if input_job_title == 'Data Entry Clerk' else 0],\n",
    "    'Job Title_Data Scientist': [1 if input_job_title == 'Data Scientist' else 0],\n",
    "    'Job Title_Digital Content Producer': [1 if input_job_title == 'Digital Content Producer' else 0],\n",
    "    'Job Title_Digital Marketing Manager': [1 if input_job_title == 'Digital Marketing Manager' else 0],\n",
    "    'Job Title_Director': [1 if input_job_title == 'Director' else 0],\n",
    "    'Job Title_Director of Business Development': [1 if input_job_title == 'Director of Business Development' else 0],\n",
    "    'Job Title_Director of Engineering': [1 if input_job_title == 'Director of Engineering' else 0],\n",
    "    'Job Title_Director of Finance': [1 if input_job_title == 'Director of Finance' else 0],\n",
    "    'Job Title_Director of HR': [1 if input_job_title == 'Director of HR' else 0],\n",
    "    'Job Title_Director of Human Capital': [1 if input_job_title == 'Director of Human Capital' else 0],\n",
    "    'Job Title_Director of Human Resources': [1 if input_job_title == 'Director of Human Resources' else 0],\n",
    "    'Job Title_Director of Marketing': [1 if input_job_title == 'Director of Marketing' else 0],\n",
    "    'Job Title_Director of Operations': [1 if input_job_title == 'Director of Operations' else 0],\n",
    "    'Job Title_Director of Product Management': [1 if input_job_title == 'Director of Product Management' else 0],\n",
    "    'Job Title_Director of Sales': [1 if input_job_title == 'Director of Sales' else 0],\n",
    "    'Job Title_Director of Sales and Marketing': [1 if input_job_title == 'Director of Sales and Marketing' else 0],\n",
    "    'Job Title_Event Coordinator': [1 if input_job_title == 'Event Coordinator' else 0],\n",
    "    'Job Title_Financial Advisor': [1 if input_job_title == 'Financial Advisor' else 0],\n",
    "    'Job Title_Financial Analyst': [1 if input_job_title == 'Financial Analyst' else 0],\n",
    "    'Job Title_Financial Manager': [1 if input_job_title == 'Financial Manager' else 0],\n",
    "    'Job Title_Graphic Designer': [1 if input_job_title == 'Graphic Designer' else 0],\n",
    "    'Job Title_HR Generalist': [1 if input_job_title == 'HR Generalist' else 0],\n",
    "    'Job Title_HR Manager': [1 if input_job_title == 'HR Manager' else 0],\n",
    "    'Job Title_Help Desk Analyst': [1 if input_job_title == 'Help Desk Analyst' else 0],\n",
    "    'Job Title_Human Resources Director': [1 if input_job_title == 'Human Resources Director' else 0],\n",
    "    'Job Title_IT Manager': [1 if input_job_title == 'IT Manager' else 0],\n",
    "    'Job Title_IT Support': [1 if input_job_title == 'IT Support' else 0],\n",
    "    'Job Title_IT Support Specialist': [1 if input_job_title == 'IT Support Specialist' else 0],\n",
    "    'Job Title_Junior Account Manager': [1 if input_job_title == 'Junior Account Manager' else 0],\n",
    "    'Job Title_Junior Accountant': [1 if input_job_title == 'Junior Accountant' else 0],\n",
    "    'Job Title_Junior Advertising Coordinator': [1 if input_job_title == 'Junior Advertising Coordinator' else 0],\n",
    "    'Job Title_Junior Business Analyst': [1 if input_job_title == 'Junior Business Analyst' else 0],\n",
    "    'Job Title_Junior Business Development Associate': [1 if input_job_title == 'Junior Business Development Associate' else 0],\n",
    "    'Job Title_Junior Business Operations Analyst': [1 if input_job_title == 'Junior Business Operations Analyst' else 0],\n",
    "    'Job Title_Junior Copywriter': [1 if input_job_title == 'Junior Copywriter' else 0],\n",
    "    'Job Title_Junior Customer Support Specialist': [1 if input_job_title == 'Junior Customer Support Specialist' else 0],\n",
    "    'Job Title_Junior Data Analyst': [1 if input_job_title == 'Junior Data Analyst' else 0],\n",
    "    'Job Title_Junior Data Scientist': [1 if input_job_title == 'Junior Data Scientist' else 0],\n",
    "    'Job Title_Junior Designer': [1 if input_job_title == 'Junior Designer' else 0],\n",
    "    'Job Title_Junior Developer': [1 if input_job_title == 'Junior Developer' else 0],\n",
    "    'Job Title_Junior Financial Advisor': [1 if input_job_title == 'Junior Financial Advisor' else 0],\n",
    "    'Job Title_Junior Financial Analyst': [1 if input_job_title == 'Junior Financial Analyst' else 0],\n",
    "    'Job Title_Junior HR Coordinator': [1 if input_job_title == 'Junior HR Coordinator' else 0],\n",
    "    'Job Title_Junior HR Generalist': [1 if input_job_title == 'Junior HR Generalist' else 0],\n",
    "    'Job Title_Junior Marketing Analyst': [1 if input_job_title == 'Junior Marketing Analyst' else 0],\n",
    "    'Job Title_Junior Marketing Coordinator': [1 if input_job_title == 'Junior Marketing Coordinator' else 0],\n",
    "    'Job Title_Junior Marketing Manager': [1 if input_job_title == 'Junior Marketing Manager' else 0],\n",
    "    'Job Title_Junior Marketing Specialist': [1 if input_job_title == 'Junior Marketing Specialist' else 0],\n",
    "    'Job Title_Junior Operations Analyst': [1 if input_job_title == 'Junior Operations Analyst' else 0],\n",
    "    'Job Title_Junior Operations Coordinator': [1 if input_job_title == 'Junior Operations Coordinator' else 0],\n",
    "    'Job Title_Junior Operations Manager': [1 if input_job_title == 'Junior Operations Manager' else 0],\n",
    "    'Job Title_Junior Product Manager': [1 if input_job_title == 'Junior Product Manager' else 0],\n",
    "    'Job Title_Junior Project Manager': [1 if input_job_title == 'Junior Project Manager' else 0],\n",
    "    'Job Title_Junior Recruiter': [1 if input_job_title == 'Junior Recruiter' else 0],\n",
    "    'Job Title_Junior Research Scientist': [1 if input_job_title == 'Junior Research Scientist' else 0],\n",
    "    'Job Title_Junior Sales Representative': [1 if input_job_title == 'Junior Sales Representative' else 0],\n",
    "    'Job Title_Junior Social Media Manager': [1 if input_job_title == 'Junior Social Media Manager' else 0],\n",
    "    'Job Title_Junior Social Media Specialist': [1 if input_job_title == 'Junior Social Media Specialist' else 0],\n",
    "    'Job Title_Junior Software Developer': [1 if input_job_title == 'Junior Software Developer' else 0],\n",
    "    'Job Title_Junior Software Engineer': [1 if input_job_title == 'Junior Software Engineer' else 0],\n",
    "    'Job Title_Junior UX Designer': [1 if input_job_title == 'Junior UX Designer' else 0],\n",
    "    'Job Title_Junior Web Designer': [1 if input_job_title == 'Junior Web Designer' else 0],\n",
    "    'Job Title_Junior Web Developer': [1 if input_job_title == 'Junior Web Developer' else 0],\n",
    "    'Job Title_Marketing Analyst': [1 if input_job_title == 'Marketing Analyst' else 0],\n",
    "    'Job Title_Marketing Coordinator': [1 if input_job_title == 'Marketing Coordinator' else 0],\n",
    "    'Job Title_Marketing Manager': [1 if input_job_title == 'Marketing Manager' else 0],\n",
    "    'Job Title_Marketing Specialist': [1 if input_job_title == 'Marketing Specialist' else 0],\n",
    "    'Job Title_Network Engineer': [1 if input_job_title == 'Network Engineer' else 0],\n",
    "    'Job Title_Office Manager': [1 if input_job_title == 'Office Manager' else 0],\n",
    "    'Job Title_Operations Analyst': [1 if input_job_title == 'Operations Analyst' else 0],\n",
    "    'Job Title_Operations Director': [1 if input_job_title == 'Operations Director' else 0],\n",
    "    'Job Title_Operations Manager': [1 if input_job_title == 'Operations Manager' else 0],\n",
    "    'Job Title_Principal Engineer': [1 if input_job_title == 'Principal Engineer' else 0],\n",
    "    'Job Title_Principal Scientist': [1 if input_job_title == 'Principal Scientist' else 0],\n",
    "    'Job Title_Product Designer': [1 if input_job_title == 'Product Designer' else 0],\n",
    "    'Job Title_Product Manager': [1 if input_job_title == 'Product Manager' else 0],\n",
    "    'Job Title_Product Marketing Manager': [1 if input_job_title == 'Product Marketing Manager' else 0],\n",
    "    'Job Title_Project Engineer': [1 if input_job_title == 'Project Engineer' else 0],\n",
    "    'Job Title_Project Manager': [1 if input_job_title == 'Project Manager' else 0],\n",
    "    'Job Title_Public Relations Manager': [1 if input_job_title == 'Public Relations Manager' else 0],\n",
    "    'Job Title_Recruiter': [1 if input_job_title == 'Recruiter' else 0],\n",
    "    'Job Title_Research Director': [1 if input_job_title == 'Research Director' else 0],\n",
    "    'Job Title_Research Scientist': [1 if input_job_title == 'Research Scientist' else 0],\n",
    "    'Job Title_Sales Associate': [1 if input_job_title == 'Sales Associate' else 0],\n",
    "    'Job Title_Sales Director': [1 if input_job_title == 'Sales Director' else 0],\n",
    "    'Job Title_Sales Executive': [1 if input_job_title == 'Sales Executive' else 0],\n",
    "    'Job Title_Sales Manager': [1 if input_job_title == 'Sales Manager' else 0],\n",
    "    'Job Title_Sales Operations Manager': [1 if input_job_title == 'Sales Operations Manager' else 0],\n",
    "    'Job Title_Sales Representative': [1 if input_job_title == 'Sales Representative' else 0],\n",
    "    'Job Title_Senior Account Executive': [1 if input_job_title == 'Senior Account Executive' else 0],\n",
    "    'Job Title_Senior Account Manager': [1 if input_job_title == 'Senior Account Manager' else 0],\n",
    "    'Job Title_Senior Accountant': [1 if input_job_title == 'Senior Accountant' else 0],\n",
    "    'Job Title_Senior Business Analyst': [1 if input_job_title == 'Senior Business Analyst' else 0],\n",
    "    'Job Title_Senior Business Development Manager': [1 if input_job_title == 'Senior Business Development Manager' else 0],\n",
    "    'Job Title_Senior Consultant': [1 if input_job_title == 'Senior Consultant' else 0],\n",
    "    'Job Title_Senior Data Analyst': [1 if input_job_title == 'Senior Data Analyst' else 0],\n",
    "    'Job Title_Senior Data Engineer': [1 if input_job_title == 'Senior Data Engineer' else 0],\n",
    "    'Job Title_Senior Data Scientist': [1 if input_job_title == 'Senior Data Scientist' else 0],\n",
    "    'Job Title_Senior Engineer': [1 if input_job_title == 'Senior Engineer' else 0],\n",
    "    'Job Title_Senior Financial Advisor': [1 if input_job_title == 'Senior Financial Advisor' else 0],\n",
    "    'Job Title_Senior Financial Analyst': [1 if input_job_title == 'Senior Financial Analyst' else 0],\n",
    "    'Job Title_Senior Financial Manager': [1 if input_job_title == 'Senior Financial Manager' else 0],\n",
    "    'Job Title_Senior Graphic Designer': [1 if input_job_title == 'Senior Graphic Designer' else 0],\n",
    "    'Job Title_Senior HR Generalist': [1 if input_job_title == 'Senior HR Generalist' else 0],\n",
    "    'Job Title_Senior HR Manager': [1 if input_job_title == 'Senior HR Manager' else 0],\n",
    "    'Job Title_Senior HR Specialist': [1 if input_job_title == 'Senior HR Specialist' else 0],\n",
    "    'Job Title_Senior Human Resources Coordinator': [1 if input_job_title == 'Senior Human Resources Coordinator' else 0],\n",
    "    'Job Title_Senior Human Resources Manager': [1 if input_job_title == 'Senior Human Resources Manager' else 0],\n",
    "    'Job Title_Senior Human Resources Specialist': [1 if input_job_title == 'Senior Human Resources Specialist' else 0],\n",
    "    'Job Title_Senior IT Consultant': [1 if input_job_title == 'Senior IT Consultant' else 0],\n",
    "    'Job Title_Senior IT Project Manager': [1 if input_job_title == 'Senior IT Project Manager' else 0],\n",
    "    'Job Title_Senior IT Support Specialist': [1 if input_job_title == 'Senior IT Support Specialist' else 0],\n",
    "    'Job Title_Senior Marketing Analyst': [1 if input_job_title == 'Senior Marketing Analyst' else 0],\n",
    "    'Job Title_Senior Manager': [1 if input_job_title == 'Senior Manager' else 0],\n",
    "    'Job Title_Senior Marketing Coordinator': [1 if input_job_title == 'Senior Marketing Coordinator' else 0],\n",
    "    'Job Title_Senior Marketing Director': [1 if input_job_title == 'Senior Marketing Director' else 0],\n",
    "    'Job Title_Senior Marketing Manager': [1 if input_job_title == 'Senior Marketing Manager' else 0],\n",
    "    'Job Title_Senior Marketing Specialist': [1 if input_job_title == 'Senior Marketing Specialist' else 0],\n",
    "    'Job Title_Senior Operations Analyst': [1 if input_job_title == 'Senior Operations Analyst' else 0],\n",
    "    'Job Title_Senior Operations Coordinator': [1 if input_job_title == 'Senior Operations Coordinator' else 0],\n",
    "    'Job Title_Senior Operations Manager': [1 if input_job_title == 'Senior Operations Manager' else 0],\n",
    "    'Job Title_Senior Product Designer': [1 if input_job_title == 'Senior Product Designer' else 0],\n",
    "    'Job Title_Senior Product Development Manager': [1 if input_job_title == 'Senior Product Development Manager' else 0],\n",
    "    'Job Title_Senior Product Manager': [1 if input_job_title == 'Senior Product Manager' else 0],\n",
    "    'Job Title_Senior Product Marketing Manager': [1 if input_job_title == 'Senior Product Marketing Manager' else 0],\n",
    "    'Job Title_Senior Project Coordinator': [1 if input_job_title == 'Senior Project Coordinator' else 0],\n",
    "    'Job Title_Senior Project Manager': [1 if input_job_title == 'Senior Project Manager' else 0],\n",
    "    'Job Title_Senior Quality Assurance Analyst': [1 if input_job_title == 'Senior Quality Assurance Analyst' else 0],\n",
    "    'Job Title_Senior Research Scientist': [1 if input_job_title == 'Senior Research Scientist' else 0],\n",
    "    'Job Title_Senior Researcher': [1 if input_job_title == 'Senior Researcher' else 0],\n",
    "    'Job Title_Senior Sales Manager': [1 if input_job_title == 'Senior Sales Manager' else 0],\n",
    "    'Job Title_Senior Sales Representative': [1 if input_job_title == 'Senior Sales Representative' else 0],\n",
    "    'Job Title_Senior Scientist': [1 if input_job_title == 'Senior Scientist' else 0],\n",
    "    'Job Title_Senior Software Architect': [1 if input_job_title == 'Senior Software Architect' else 0],\n",
    "    'Job Title_Senior Software Developer': [1 if input_job_title == 'Senior Software Developer' else 0],\n",
    "    'Job Title_Senior Software Engineer': [1 if input_job_title == 'Senior Software Engineer' else 0],\n",
    "    'Job Title_Senior Training Specialist': [1 if input_job_title == 'Senior Training Specialist' else 0],\n",
    "    'Job Title_Senior UX Designer': [1 if input_job_title == 'Senior UX Designer' else 0],\n",
    "    'Job Title_Social Media Manager': [1 if input_job_title == 'Social Media Manager' else 0],\n",
    "    'Job Title_Social Media Specialist': [1 if input_job_title == 'Social Media Specialist' else 0],\n",
    "    'Job Title_Software Developer': [1 if input_job_title == 'Software Developer' else 0],\n",
    "    'Job Title_Software Manager': [1 if input_job_title == 'Software Manager' else 0],\n",
    "    'Job Title_Software Project Manager': [1 if input_job_title == 'Software Project Manager' else 0],\n",
    "    'Job Title_Strategy Consultant': [1 if input_job_title == 'Strategy Consultant' else 0],\n",
    "    'Job Title_Supply Chain Analyst': [1 if input_job_title == 'Supply Chain Analyst' else 0],\n",
    "    'Job Title_Supply Chain Manager': [1 if input_job_title == 'Supply Chain Manager' else 0],\n",
    "    'Job Title_Technical Recruiter': [1 if input_job_title == 'Technical Recruiter' else 0],\n",
    "    'Job Title_Technical Support Specialist': [1 if input_job_title == 'Technical Support Specialist' else 0],\n",
    "    'Job Title_Technical Writer': [1 if input_job_title == 'Technical Writer' else 0],\n",
    "    'Job Title_Training Specialist': [1 if input_job_title == 'Training Specialist' else 0],\n",
    "    'Job Title_UX Designer': [1 if input_job_title == 'UX Designer' else 0],\n",
    "    'Job Title_UX Researcher': [1 if input_job_title == 'UX Researcher' else 0],\n",
    "    'Job Title_VP of Finance': [1 if input_job_title == 'VP of Finance' else 0],\n",
    "    'Job Title_VP of Operations': [1 if input_job_title == 'VP of Operations' else 0],\n",
    "    'Job Title_Web Developer': [1 if input_job_title == 'Web Developer' else 0],\n",
    "    'Years of Experience': [input_years_of_experience]\n",
    "})"
   ]
  },
  {
   "cell_type": "code",
   "execution_count": 255,
   "id": "a5e9f073",
   "metadata": {},
   "outputs": [],
   "source": [
    "# Ensure the feature order matches the one used for training\n",
    "input_data = input_data[X_train.columns]"
   ]
  },
  {
   "cell_type": "code",
   "execution_count": 256,
   "id": "c52a5518",
   "metadata": {},
   "outputs": [
    {
     "data": {
      "text/html": [
       "<div>\n",
       "<style scoped>\n",
       "    .dataframe tbody tr th:only-of-type {\n",
       "        vertical-align: middle;\n",
       "    }\n",
       "\n",
       "    .dataframe tbody tr th {\n",
       "        vertical-align: top;\n",
       "    }\n",
       "\n",
       "    .dataframe thead th {\n",
       "        text-align: right;\n",
       "    }\n",
       "</style>\n",
       "<table border=\"1\" class=\"dataframe\">\n",
       "  <thead>\n",
       "    <tr style=\"text-align: right;\">\n",
       "      <th></th>\n",
       "      <th>Age</th>\n",
       "      <th>Years of Experience</th>\n",
       "      <th>Gender_Male</th>\n",
       "      <th>Education Level_Master's</th>\n",
       "      <th>Education Level_PhD</th>\n",
       "      <th>Job Title_Accountant</th>\n",
       "      <th>Job Title_Administrative Assistant</th>\n",
       "      <th>Job Title_Business Analyst</th>\n",
       "      <th>Job Title_Business Development Manager</th>\n",
       "      <th>Job Title_Business Intelligence Analyst</th>\n",
       "      <th>...</th>\n",
       "      <th>Job Title_Supply Chain Manager</th>\n",
       "      <th>Job Title_Technical Recruiter</th>\n",
       "      <th>Job Title_Technical Support Specialist</th>\n",
       "      <th>Job Title_Technical Writer</th>\n",
       "      <th>Job Title_Training Specialist</th>\n",
       "      <th>Job Title_UX Designer</th>\n",
       "      <th>Job Title_UX Researcher</th>\n",
       "      <th>Job Title_VP of Finance</th>\n",
       "      <th>Job Title_VP of Operations</th>\n",
       "      <th>Job Title_Web Developer</th>\n",
       "    </tr>\n",
       "  </thead>\n",
       "  <tbody>\n",
       "    <tr>\n",
       "      <th>0</th>\n",
       "      <td>25.0</td>\n",
       "      <td>3</td>\n",
       "      <td>1</td>\n",
       "      <td>1</td>\n",
       "      <td>0</td>\n",
       "      <td>0</td>\n",
       "      <td>0</td>\n",
       "      <td>0</td>\n",
       "      <td>0</td>\n",
       "      <td>0</td>\n",
       "      <td>...</td>\n",
       "      <td>0</td>\n",
       "      <td>0</td>\n",
       "      <td>0</td>\n",
       "      <td>0</td>\n",
       "      <td>0</td>\n",
       "      <td>0</td>\n",
       "      <td>0</td>\n",
       "      <td>0</td>\n",
       "      <td>0</td>\n",
       "      <td>0</td>\n",
       "    </tr>\n",
       "  </tbody>\n",
       "</table>\n",
       "<p>1 rows × 178 columns</p>\n",
       "</div>"
      ],
      "text/plain": [
       "    Age  Years of Experience  Gender_Male  Education Level_Master's  \\\n",
       "0  25.0                    3            1                         1   \n",
       "\n",
       "   Education Level_PhD  Job Title_Accountant  \\\n",
       "0                    0                     0   \n",
       "\n",
       "   Job Title_Administrative Assistant  Job Title_Business Analyst  \\\n",
       "0                                   0                           0   \n",
       "\n",
       "   Job Title_Business Development Manager  \\\n",
       "0                                       0   \n",
       "\n",
       "   Job Title_Business Intelligence Analyst  ...  \\\n",
       "0                                        0  ...   \n",
       "\n",
       "   Job Title_Supply Chain Manager  Job Title_Technical Recruiter  \\\n",
       "0                               0                              0   \n",
       "\n",
       "   Job Title_Technical Support Specialist  Job Title_Technical Writer  \\\n",
       "0                                       0                           0   \n",
       "\n",
       "   Job Title_Training Specialist  Job Title_UX Designer  \\\n",
       "0                              0                      0   \n",
       "\n",
       "   Job Title_UX Researcher  Job Title_VP of Finance  \\\n",
       "0                        0                        0   \n",
       "\n",
       "   Job Title_VP of Operations  Job Title_Web Developer  \n",
       "0                           0                        0  \n",
       "\n",
       "[1 rows x 178 columns]"
      ]
     },
     "execution_count": 256,
     "metadata": {},
     "output_type": "execute_result"
    }
   ],
   "source": [
    "input_data"
   ]
  },
  {
   "cell_type": "code",
   "execution_count": 259,
   "id": "a71a16bf",
   "metadata": {},
   "outputs": [],
   "source": [
    "# Make predictions for the input data\n",
    "predicted_salary = lm.predict(input_data)"
   ]
  },
  {
   "cell_type": "code",
   "execution_count": 260,
   "id": "bf8815cf",
   "metadata": {},
   "outputs": [
    {
     "data": {
      "text/plain": [
       "array([85408.86783617])"
      ]
     },
     "execution_count": 260,
     "metadata": {},
     "output_type": "execute_result"
    }
   ],
   "source": [
    "predicted_salary"
   ]
  },
  {
   "cell_type": "code",
   "execution_count": 242,
   "id": "a7cde145",
   "metadata": {},
   "outputs": [
    {
     "name": "stdout",
     "output_type": "stream",
     "text": [
      "Predicted Salary for Input Data: 45315.118871633575\n"
     ]
    }
   ],
   "source": [
    "# Print the predicted salary\n",
    "print(\"Predicted Salary for Input Data:\", predicted_salary[0])"
   ]
  },
  {
   "cell_type": "code",
   "execution_count": 235,
   "id": "58d486d5",
   "metadata": {},
   "outputs": [
    {
     "data": {
      "text/plain": [
       "383113168.4838836"
      ]
     },
     "execution_count": 235,
     "metadata": {},
     "output_type": "execute_result"
    }
   ],
   "source": [
    "## Mean Square Error\n",
    "\n",
    "from sklearn import metrics\n",
    "predictions = lm.predict(X_test)\n",
    "mse = metrics.mean_squared_error(y_test,predictions)\n",
    "mse"
   ]
  },
  {
   "cell_type": "code",
   "execution_count": 236,
   "id": "58b390f3",
   "metadata": {},
   "outputs": [
    {
     "data": {
      "text/plain": [
       "Text(0.5, 1.0, 'Predicted versus actual values (MSE=383113168.48)')"
      ]
     },
     "execution_count": 236,
     "metadata": {},
     "output_type": "execute_result"
    },
    {
     "data": {
      "image/png": "[encoded data removed]",
      "text/plain": [
       "<Figure size 432x288 with 1 Axes>"
      ]
     },
     "metadata": {},
     "output_type": "display_data"
    }
   ],
   "source": [
    "plt.scatter(y_test, predictions, c='red', label='Actual')\n",
    "plt.scatter(y_test, y_test, c='blue', label='Predicted')\n",
    "\n",
    "plt.xlabel(\"Actual values\")\n",
    "plt.ylabel(\"Predicted values\")\n",
    "plt.title(\"Predicted versus actual values (MSE={:.2f})\".format(mse))\n",
    "plt.legend()\n",
    "plt.title(\"Predicted versus actual values (MSE={:.2f})\".format(mse))"
   ]
  },
  {
   "cell_type": "code",
   "execution_count": 261,
   "id": "fa0251c0",
   "metadata": {},
   "outputs": [
    {
     "name": "stdout",
     "output_type": "stream",
     "text": [
      "Model Score 85.3579819098006\n"
     ]
    }
   ],
   "source": [
    "print(\"Model Score\", lm.score(X_test, y_test)*100)\n"
   ]
  },
  {
   "cell_type": "code",
   "execution_count": 266,
   "id": "592ca46b",
   "metadata": {},
   "outputs": [
    {
     "name": "stdout",
     "output_type": "stream",
     "text": [
      "Coefficients (m values): [ 2.47787704e+03  1.13357268e+03  6.77119055e+02  5.33913033e+03\n",
      "  1.22137748e+04 -1.57114312e+04 -4.24854954e+04 -4.68139388e+03\n",
      "  1.30439753e+03 -8.41527430e+01  1.07726760e+05  9.05824011e+04\n",
      "  9.16908034e+04 -1.20999815e+04 -2.10106547e+04  5.35706416e+03\n",
      " -1.36709893e+04 -1.92098967e+04 -2.68450039e+04 -2.16877738e+04\n",
      "  6.43922249e-09 -2.48335775e+03 -1.63098782e+04  6.91215973e-11\n",
      " -1.70999815e+04  7.37418304e-09 -1.68256520e-09 -6.14818418e-09\n",
      "  4.50964649e+04 -1.04791980e-08  4.36883658e+04  4.00769161e+04\n",
      "  3.80502671e+04  4.27331494e+04  3.45117059e+04  3.68776741e+04\n",
      "  4.65784506e+04 -8.59284910e-09 -3.44629550e+04  4.71437122e+03\n",
      " -8.76570994e-09  2.82913948e+04 -1.46221045e+04 -2.47526408e+04\n",
      " -5.39313228e+03 -1.69869973e+04  4.36883658e+04 -5.56029615e+03\n",
      " -1.66435279e+04 -2.71786535e+04 -1.67663888e+04 -1.90602850e+04\n",
      " -2.27771006e+04 -2.20686176e+04 -2.48047596e+04 -4.59238645e+04\n",
      " -2.20999815e+04 -2.17320197e+04 -2.71786535e+04 -1.58272446e+04\n",
      " -2.34885318e+04 -1.06426929e+04 -8.86642732e+03 -1.83777143e+04\n",
      " -2.33389200e+04 -2.13885503e+04 -1.52738833e+04 -1.96330249e+04\n",
      " -1.82335542e+04 -1.64385921e+04 -2.35278678e+04 -2.59664088e+04\n",
      " -1.60073815e+04 -1.77771006e+04 -1.52549776e+04 -1.96221045e+04\n",
      " -1.33051217e+04 -2.47659035e+04 -2.20999815e+04 -2.45778585e+04\n",
      " -2.40381620e+04  5.45696821e-12 -1.83051217e+04 -2.02992235e+04\n",
      " -2.74778770e+04 -1.22324372e+04 -2.31893083e+04 -5.68434189e-13\n",
      " -3.23358837e+04 -7.77710055e+03 -4.04816241e+04 -1.42159918e+04\n",
      "  9.09494702e-13  2.18045967e+04 -7.27595761e-12 -4.26325641e-13\n",
      "  6.04941994e+03  1.12921513e+04  3.82652049e+03 -3.20054899e+02\n",
      "  1.94275138e+03 -1.01971369e+04 -2.86190681e+04  1.09139364e-11\n",
      "  1.63473339e+04 -2.65015345e+04  3.18323146e-12 -1.45519152e-11\n",
      "  4.87042421e+02 -1.19488464e+04 -2.19869973e+04 -4.60302902e+03\n",
      "  5.65194857e+03 -1.48580066e+04  1.11884798e+04  1.92194185e+04\n",
      "  1.48709699e+04  1.95633183e+04  2.46820222e+04  3.13845256e+04\n",
      "  7.21639130e+03  4.24866196e+03  1.35322438e+04  1.51649062e+04\n",
      " -5.77650853e+03 -1.58568722e+03  2.06682181e+04  1.92677374e+04\n",
      " -1.48580066e+04  1.77295754e+04  1.14463909e+04  6.54836185e-11\n",
      "  1.75411984e+04 -4.93667865e+03  2.51652266e+04 -1.45791302e+03\n",
      " -1.44276596e+03  3.75595786e+04  1.30165807e+04  1.43373855e+04\n",
      " -2.67562833e+02  1.70263333e+04  1.82887281e+04  1.79261869e+04\n",
      "  2.02549776e+04  2.27326391e+04  2.87918712e+03 -9.02182695e+03\n",
      "  1.13161067e+04  1.55099552e+04 -3.18777893e-10  9.09494702e-12\n",
      "  1.27961760e+04 -5.84196754e+03  6.75530985e+03  2.27371937e+04\n",
      "  1.63255047e+04  1.65958375e+04 -7.42003639e+03  2.30873680e+04\n",
      " -1.32335542e+04 -1.71442274e+04  4.36164616e+03  1.50000000e+04\n",
      "  1.11471674e+04  3.07632406e+03  1.82913948e+04 -8.19540331e+03\n",
      " -1.19930923e+04 -1.83122262e+04 -2.16877738e+04 -1.42098967e+04\n",
      "  7.63975549e-11 -4.61776536e+03  3.63797881e-12  6.66226965e+04\n",
      "  5.66226965e+04  0.00000000e+00]\n",
      "Intercept (c value): -10637.047782405978\n"
     ]
    }
   ],
   "source": [
    "coefficients = lm.coef_\n",
    "\n",
    "# Get the intercept (c value)\n",
    "intercept = lm.intercept_\n",
    "\n",
    "print(\"Coefficients (m values):\", coefficients)\n",
    "print(\"Intercept (c value):\", intercept)"
   ]
  },
  {
   "cell_type": "markdown",
   "id": "c9f5b6c7",
   "metadata": {},
   "source": [
    "## Decision Tree Regressor"
   ]
  },
  {
   "cell_type": "code",
   "execution_count": 262,
   "id": "cd88c3e3",
   "metadata": {},
   "outputs": [
    {
     "data": {
      "text/plain": [
       "DecisionTreeRegressor(random_state=1)"
      ]
     },
     "execution_count": 262,
     "metadata": {},
     "output_type": "execute_result"
    }
   ],
   "source": [
    "from sklearn.tree import DecisionTreeRegressor\n",
    "model = DecisionTreeRegressor(random_state=1)\n",
    "model.fit(X_train,y_train)"
   ]
  },
  {
   "cell_type": "code",
   "execution_count": 263,
   "id": "d38fa0cb",
   "metadata": {},
   "outputs": [],
   "source": [
    "y_pred = model.predict(X_test)"
   ]
  },
  {
   "cell_type": "code",
   "execution_count": 264,
   "id": "b5f93199",
   "metadata": {},
   "outputs": [
    {
     "data": {
      "text/plain": [
       "0.84697892780092"
      ]
     },
     "execution_count": 264,
     "metadata": {},
     "output_type": "execute_result"
    }
   ],
   "source": [
    "from sklearn.metrics import r2_score\n",
    "r2_score(y_test,y_pred)"
   ]
  },
  {
   "cell_type": "code",
   "execution_count": 265,
   "id": "bb12be86",
   "metadata": {},
   "outputs": [
    {
     "data": {
      "text/plain": [
       "<matplotlib.legend.Legend at 0x7f6bf22fb438>"
      ]
     },
     "execution_count": 265,
     "metadata": {},
     "output_type": "execute_result"
    },
    {
     "data": {
      "image/png": "[encoded data removed]",
      "text/plain": [
       "<Figure size 432x288 with 1 Axes>"
      ]
     },
     "metadata": {},
     "output_type": "display_data"
    }
   ],
   "source": [
    "plt.scatter(y_test, y_pred, c='red', label='Actual')\n",
    "plt.scatter(y_test, y_test, c='blue', label='Predicted')\n",
    "plt.xlabel(\"Actual values\")\n",
    "plt.ylabel(\"Predicted values\")\n",
    "plt.legend()"
   ]
  },
  {
   "cell_type": "code",
   "execution_count": null,
   "id": "74cf5fe7",
   "metadata": {},
   "outputs": [],
   "source": []
  },
  {
   "cell_type": "code",
   "execution_count": null,
   "id": "cbbc7615",
   "metadata": {},
   "outputs": [],
   "source": []
  },
  {
   "cell_type": "markdown",
   "id": "f5073ed5",
   "metadata": {},
   "source": [
    "## Classification Model Exercise"
   ]
  },
  {
   "cell_type": "code",
   "execution_count": 16,
   "id": "4a88b553",
   "metadata": {},
   "outputs": [
    {
     "data": {
      "text/html": [
       "<div>\n",
       "<style scoped>\n",
       "    .dataframe tbody tr th:only-of-type {\n",
       "        vertical-align: middle;\n",
       "    }\n",
       "\n",
       "    .dataframe tbody tr th {\n",
       "        vertical-align: top;\n",
       "    }\n",
       "\n",
       "    .dataframe thead th {\n",
       "        text-align: right;\n",
       "    }\n",
       "</style>\n",
       "<table border=\"1\" class=\"dataframe\">\n",
       "  <thead>\n",
       "    <tr style=\"text-align: right;\">\n",
       "      <th></th>\n",
       "      <th>Age</th>\n",
       "      <th>Gender</th>\n",
       "      <th>Education Level</th>\n",
       "      <th>Job Title</th>\n",
       "      <th>Years of Experience</th>\n",
       "      <th>Salary</th>\n",
       "    </tr>\n",
       "  </thead>\n",
       "  <tbody>\n",
       "    <tr>\n",
       "      <th>0</th>\n",
       "      <td>32.0</td>\n",
       "      <td>Male</td>\n",
       "      <td>Bachelor's</td>\n",
       "      <td>Software Engineer</td>\n",
       "      <td>5.0</td>\n",
       "      <td>90000.0</td>\n",
       "    </tr>\n",
       "    <tr>\n",
       "      <th>1</th>\n",
       "      <td>28.0</td>\n",
       "      <td>Female</td>\n",
       "      <td>Master's</td>\n",
       "      <td>Data Analyst</td>\n",
       "      <td>3.0</td>\n",
       "      <td>65000.0</td>\n",
       "    </tr>\n",
       "    <tr>\n",
       "      <th>2</th>\n",
       "      <td>45.0</td>\n",
       "      <td>Male</td>\n",
       "      <td>PhD</td>\n",
       "      <td>Senior Manager</td>\n",
       "      <td>15.0</td>\n",
       "      <td>150000.0</td>\n",
       "    </tr>\n",
       "    <tr>\n",
       "      <th>3</th>\n",
       "      <td>36.0</td>\n",
       "      <td>Female</td>\n",
       "      <td>Bachelor's</td>\n",
       "      <td>Sales Associate</td>\n",
       "      <td>7.0</td>\n",
       "      <td>60000.0</td>\n",
       "    </tr>\n",
       "    <tr>\n",
       "      <th>4</th>\n",
       "      <td>52.0</td>\n",
       "      <td>Male</td>\n",
       "      <td>Master's</td>\n",
       "      <td>Director</td>\n",
       "      <td>20.0</td>\n",
       "      <td>200000.0</td>\n",
       "    </tr>\n",
       "    <tr>\n",
       "      <th>...</th>\n",
       "      <td>...</td>\n",
       "      <td>...</td>\n",
       "      <td>...</td>\n",
       "      <td>...</td>\n",
       "      <td>...</td>\n",
       "      <td>...</td>\n",
       "    </tr>\n",
       "    <tr>\n",
       "      <th>348</th>\n",
       "      <td>28.0</td>\n",
       "      <td>Female</td>\n",
       "      <td>Bachelor's</td>\n",
       "      <td>Junior Operations Manager</td>\n",
       "      <td>1.0</td>\n",
       "      <td>35000.0</td>\n",
       "    </tr>\n",
       "    <tr>\n",
       "      <th>349</th>\n",
       "      <td>36.0</td>\n",
       "      <td>Male</td>\n",
       "      <td>Bachelor's</td>\n",
       "      <td>Senior Business Development Manager</td>\n",
       "      <td>8.0</td>\n",
       "      <td>110000.0</td>\n",
       "    </tr>\n",
       "    <tr>\n",
       "      <th>350</th>\n",
       "      <td>44.0</td>\n",
       "      <td>Female</td>\n",
       "      <td>PhD</td>\n",
       "      <td>Senior Data Scientist</td>\n",
       "      <td>16.0</td>\n",
       "      <td>160000.0</td>\n",
       "    </tr>\n",
       "    <tr>\n",
       "      <th>351</th>\n",
       "      <td>31.0</td>\n",
       "      <td>Male</td>\n",
       "      <td>Bachelor's</td>\n",
       "      <td>Junior Marketing Coordinator</td>\n",
       "      <td>3.0</td>\n",
       "      <td>55000.0</td>\n",
       "    </tr>\n",
       "    <tr>\n",
       "      <th>371</th>\n",
       "      <td>43.0</td>\n",
       "      <td>Male</td>\n",
       "      <td>Master's</td>\n",
       "      <td>Director of Operations</td>\n",
       "      <td>19.0</td>\n",
       "      <td>170000.0</td>\n",
       "    </tr>\n",
       "  </tbody>\n",
       "</table>\n",
       "<p>324 rows × 6 columns</p>\n",
       "</div>"
      ],
      "text/plain": [
       "      Age  Gender Education Level                            Job Title  \\\n",
       "0    32.0    Male      Bachelor's                    Software Engineer   \n",
       "1    28.0  Female        Master's                         Data Analyst   \n",
       "2    45.0    Male             PhD                       Senior Manager   \n",
       "3    36.0  Female      Bachelor's                      Sales Associate   \n",
       "4    52.0    Male        Master's                             Director   \n",
       "..    ...     ...             ...                                  ...   \n",
       "348  28.0  Female      Bachelor's            Junior Operations Manager   \n",
       "349  36.0    Male      Bachelor's  Senior Business Development Manager   \n",
       "350  44.0  Female             PhD                Senior Data Scientist   \n",
       "351  31.0    Male      Bachelor's         Junior Marketing Coordinator   \n",
       "371  43.0    Male        Master's               Director of Operations   \n",
       "\n",
       "     Years of Experience    Salary  \n",
       "0                    5.0   90000.0  \n",
       "1                    3.0   65000.0  \n",
       "2                   15.0  150000.0  \n",
       "3                    7.0   60000.0  \n",
       "4                   20.0  200000.0  \n",
       "..                   ...       ...  \n",
       "348                  1.0   35000.0  \n",
       "349                  8.0  110000.0  \n",
       "350                 16.0  160000.0  \n",
       "351                  3.0   55000.0  \n",
       "371                 19.0  170000.0  \n",
       "\n",
       "[324 rows x 6 columns]"
      ]
     },
     "execution_count": 16,
     "metadata": {},
     "output_type": "execute_result"
    }
   ],
   "source": [
    "salary"
   ]
  },
  {
   "cell_type": "code",
   "execution_count": 17,
   "id": "196fed9f",
   "metadata": {},
   "outputs": [
    {
     "data": {
      "text/plain": [
       "<seaborn.axisgrid.FacetGrid at 0x7f7bbc6c1da0>"
      ]
     },
     "execution_count": 17,
     "metadata": {},
     "output_type": "execute_result"
    },
    {
     "data": {
      "image/png": "[encoded data removed]",
      "text/plain": [
       "<Figure size 360x360 with 1 Axes>"
      ]
     },
     "metadata": {},
     "output_type": "display_data"
    }
   ],
   "source": [
    "sns.displot(salary['Salary'])"
   ]
  },
  {
   "cell_type": "code",
   "execution_count": 18,
   "id": "22df6092",
   "metadata": {},
   "outputs": [],
   "source": [
    "salary['Salary_Greater_90k'] = salary['Salary'].apply(lambda x: 1 if x > 90000.0 else 0)\n"
   ]
  },
  {
   "cell_type": "code",
   "execution_count": 19,
   "id": "4c2e3f8f",
   "metadata": {},
   "outputs": [
    {
     "data": {
      "text/html": [
       "<div>\n",
       "<style scoped>\n",
       "    .dataframe tbody tr th:only-of-type {\n",
       "        vertical-align: middle;\n",
       "    }\n",
       "\n",
       "    .dataframe tbody tr th {\n",
       "        vertical-align: top;\n",
       "    }\n",
       "\n",
       "    .dataframe thead th {\n",
       "        text-align: right;\n",
       "    }\n",
       "</style>\n",
       "<table border=\"1\" class=\"dataframe\">\n",
       "  <thead>\n",
       "    <tr style=\"text-align: right;\">\n",
       "      <th></th>\n",
       "      <th>Age</th>\n",
       "      <th>Gender</th>\n",
       "      <th>Education Level</th>\n",
       "      <th>Job Title</th>\n",
       "      <th>Years of Experience</th>\n",
       "      <th>Salary</th>\n",
       "      <th>Salary_Greater_90k</th>\n",
       "    </tr>\n",
       "  </thead>\n",
       "  <tbody>\n",
       "    <tr>\n",
       "      <th>0</th>\n",
       "      <td>32.0</td>\n",
       "      <td>Male</td>\n",
       "      <td>Bachelor's</td>\n",
       "      <td>Software Engineer</td>\n",
       "      <td>5.0</td>\n",
       "      <td>90000.0</td>\n",
       "      <td>0</td>\n",
       "    </tr>\n",
       "    <tr>\n",
       "      <th>1</th>\n",
       "      <td>28.0</td>\n",
       "      <td>Female</td>\n",
       "      <td>Master's</td>\n",
       "      <td>Data Analyst</td>\n",
       "      <td>3.0</td>\n",
       "      <td>65000.0</td>\n",
       "      <td>0</td>\n",
       "    </tr>\n",
       "    <tr>\n",
       "      <th>2</th>\n",
       "      <td>45.0</td>\n",
       "      <td>Male</td>\n",
       "      <td>PhD</td>\n",
       "      <td>Senior Manager</td>\n",
       "      <td>15.0</td>\n",
       "      <td>150000.0</td>\n",
       "      <td>1</td>\n",
       "    </tr>\n",
       "    <tr>\n",
       "      <th>3</th>\n",
       "      <td>36.0</td>\n",
       "      <td>Female</td>\n",
       "      <td>Bachelor's</td>\n",
       "      <td>Sales Associate</td>\n",
       "      <td>7.0</td>\n",
       "      <td>60000.0</td>\n",
       "      <td>0</td>\n",
       "    </tr>\n",
       "    <tr>\n",
       "      <th>4</th>\n",
       "      <td>52.0</td>\n",
       "      <td>Male</td>\n",
       "      <td>Master's</td>\n",
       "      <td>Director</td>\n",
       "      <td>20.0</td>\n",
       "      <td>200000.0</td>\n",
       "      <td>1</td>\n",
       "    </tr>\n",
       "    <tr>\n",
       "      <th>...</th>\n",
       "      <td>...</td>\n",
       "      <td>...</td>\n",
       "      <td>...</td>\n",
       "      <td>...</td>\n",
       "      <td>...</td>\n",
       "      <td>...</td>\n",
       "      <td>...</td>\n",
       "    </tr>\n",
       "    <tr>\n",
       "      <th>348</th>\n",
       "      <td>28.0</td>\n",
       "      <td>Female</td>\n",
       "      <td>Bachelor's</td>\n",
       "      <td>Junior Operations Manager</td>\n",
       "      <td>1.0</td>\n",
       "      <td>35000.0</td>\n",
       "      <td>0</td>\n",
       "    </tr>\n",
       "    <tr>\n",
       "      <th>349</th>\n",
       "      <td>36.0</td>\n",
       "      <td>Male</td>\n",
       "      <td>Bachelor's</td>\n",
       "      <td>Senior Business Development Manager</td>\n",
       "      <td>8.0</td>\n",
       "      <td>110000.0</td>\n",
       "      <td>1</td>\n",
       "    </tr>\n",
       "    <tr>\n",
       "      <th>350</th>\n",
       "      <td>44.0</td>\n",
       "      <td>Female</td>\n",
       "      <td>PhD</td>\n",
       "      <td>Senior Data Scientist</td>\n",
       "      <td>16.0</td>\n",
       "      <td>160000.0</td>\n",
       "      <td>1</td>\n",
       "    </tr>\n",
       "    <tr>\n",
       "      <th>351</th>\n",
       "      <td>31.0</td>\n",
       "      <td>Male</td>\n",
       "      <td>Bachelor's</td>\n",
       "      <td>Junior Marketing Coordinator</td>\n",
       "      <td>3.0</td>\n",
       "      <td>55000.0</td>\n",
       "      <td>0</td>\n",
       "    </tr>\n",
       "    <tr>\n",
       "      <th>371</th>\n",
       "      <td>43.0</td>\n",
       "      <td>Male</td>\n",
       "      <td>Master's</td>\n",
       "      <td>Director of Operations</td>\n",
       "      <td>19.0</td>\n",
       "      <td>170000.0</td>\n",
       "      <td>1</td>\n",
       "    </tr>\n",
       "  </tbody>\n",
       "</table>\n",
       "<p>324 rows × 7 columns</p>\n",
       "</div>"
      ],
      "text/plain": [
       "      Age  Gender Education Level                            Job Title  \\\n",
       "0    32.0    Male      Bachelor's                    Software Engineer   \n",
       "1    28.0  Female        Master's                         Data Analyst   \n",
       "2    45.0    Male             PhD                       Senior Manager   \n",
       "3    36.0  Female      Bachelor's                      Sales Associate   \n",
       "4    52.0    Male        Master's                             Director   \n",
       "..    ...     ...             ...                                  ...   \n",
       "348  28.0  Female      Bachelor's            Junior Operations Manager   \n",
       "349  36.0    Male      Bachelor's  Senior Business Development Manager   \n",
       "350  44.0  Female             PhD                Senior Data Scientist   \n",
       "351  31.0    Male      Bachelor's         Junior Marketing Coordinator   \n",
       "371  43.0    Male        Master's               Director of Operations   \n",
       "\n",
       "     Years of Experience    Salary  Salary_Greater_90k  \n",
       "0                    5.0   90000.0                   0  \n",
       "1                    3.0   65000.0                   0  \n",
       "2                   15.0  150000.0                   1  \n",
       "3                    7.0   60000.0                   0  \n",
       "4                   20.0  200000.0                   1  \n",
       "..                   ...       ...                 ...  \n",
       "348                  1.0   35000.0                   0  \n",
       "349                  8.0  110000.0                   1  \n",
       "350                 16.0  160000.0                   1  \n",
       "351                  3.0   55000.0                   0  \n",
       "371                 19.0  170000.0                   1  \n",
       "\n",
       "[324 rows x 7 columns]"
      ]
     },
     "execution_count": 19,
     "metadata": {},
     "output_type": "execute_result"
    }
   ],
   "source": [
    "salary"
   ]
  },
  {
   "cell_type": "code",
   "execution_count": 20,
   "id": "6272f893",
   "metadata": {},
   "outputs": [
    {
     "data": {
      "text/plain": [
       "1    171\n",
       "0    153\n",
       "Name: Salary_Greater_90k, dtype: int64"
      ]
     },
     "execution_count": 20,
     "metadata": {},
     "output_type": "execute_result"
    }
   ],
   "source": [
    "salary['Salary_Greater_90k'].value_counts()"
   ]
  },
  {
   "cell_type": "code",
   "execution_count": 21,
   "id": "55da90f5",
   "metadata": {},
   "outputs": [],
   "source": [
    "## Think of finding/exploring the jobs with highest salaries\n",
    "high_salary_df = salary[salary['Salary_Greater_90k'] != 0]"
   ]
  },
  {
   "cell_type": "code",
   "execution_count": 25,
   "id": "4048a563",
   "metadata": {},
   "outputs": [],
   "source": [
    "job_title_counts = high_salary_df['Job Title'].value_counts()"
   ]
  },
  {
   "cell_type": "code",
   "execution_count": 27,
   "id": "320533e6",
   "metadata": {},
   "outputs": [
    {
     "data": {
      "image/png": "[encoded data removed]",
      "text/plain": [
       "<Figure size 720x432 with 1 Axes>"
      ]
     },
     "metadata": {},
     "output_type": "display_data"
    }
   ],
   "source": [
    "# Plot the distribution of job titles\n",
    "plt.figure(figsize=(10, 6))\n",
    "job_title_counts.head(15).plot(kind='bar', color='skyblue')\n",
    "plt.title('Distribution of Job Titles with Salary > 90000')\n",
    "plt.xlabel('Job Title')\n",
    "plt.ylabel('Frequency')\n",
    "plt.xticks(rotation=45, ha='right')  # Rotate x-axis labels for better readability\n",
    "plt.tight_layout()\n",
    "plt.show()"
   ]
  },
  {
   "cell_type": "code",
   "execution_count": 31,
   "id": "5904308b",
   "metadata": {},
   "outputs": [],
   "source": [
    "# See distribution of age where salary is greater than 90k\n",
    "age_df = salary[salary['Salary_Greater_90k'] != 0]\n",
    "age_df2 = salary[salary['Salary_Greater_90k'] != 1]\n"
   ]
  },
  {
   "cell_type": "code",
   "execution_count": 30,
   "id": "2277ac10",
   "metadata": {},
   "outputs": [
    {
     "data": {
      "text/plain": [
       "<seaborn.axisgrid.FacetGrid at 0x7f7b8bc2e668>"
      ]
     },
     "execution_count": 30,
     "metadata": {},
     "output_type": "execute_result"
    },
    {
     "data": {
      "image/png": "[encoded data removed]",
      "text/plain": [
       "<Figure size 360x360 with 1 Axes>"
      ]
     },
     "metadata": {},
     "output_type": "display_data"
    }
   ],
   "source": [
    "# Age distribution where salary is > 90k\n",
    "sns.displot(age_df['Age'])"
   ]
  },
  {
   "cell_type": "code",
   "execution_count": 32,
   "id": "760a2cfa",
   "metadata": {},
   "outputs": [
    {
     "data": {
      "text/plain": [
       "<seaborn.axisgrid.FacetGrid at 0x7f7b8957de10>"
      ]
     },
     "execution_count": 32,
     "metadata": {},
     "output_type": "execute_result"
    },
    {
     "data": {
      "image/png": "[encoded data removed]",
      "text/plain": [
       "<Figure size 360x360 with 1 Axes>"
      ]
     },
     "metadata": {},
     "output_type": "display_data"
    }
   ],
   "source": [
    "# Age distribution where salary is < 90k\n",
    "sns.displot(age_df2['Age'])"
   ]
  },
  {
   "cell_type": "code",
   "execution_count": 33,
   "id": "9e4f054e",
   "metadata": {},
   "outputs": [],
   "source": [
    "enc = LabelEncoder()"
   ]
  },
  {
   "cell_type": "code",
   "execution_count": 38,
   "id": "4615c929",
   "metadata": {},
   "outputs": [],
   "source": [
    "# Applying encoding technique to convert categorical data into Numerical\n",
    "\n",
    "for column in salary.columns:\n",
    "    if salary[column].dtype == 'object':  # Check if the column is categorical\n",
    "        salary[column] = enc.fit_transform(salary[column])"
   ]
  },
  {
   "cell_type": "code",
   "execution_count": 39,
   "id": "f586652c",
   "metadata": {},
   "outputs": [
    {
     "data": {
      "text/html": [
       "<div>\n",
       "<style scoped>\n",
       "    .dataframe tbody tr th:only-of-type {\n",
       "        vertical-align: middle;\n",
       "    }\n",
       "\n",
       "    .dataframe tbody tr th {\n",
       "        vertical-align: top;\n",
       "    }\n",
       "\n",
       "    .dataframe thead th {\n",
       "        text-align: right;\n",
       "    }\n",
       "</style>\n",
       "<table border=\"1\" class=\"dataframe\">\n",
       "  <thead>\n",
       "    <tr style=\"text-align: right;\">\n",
       "      <th></th>\n",
       "      <th>Age</th>\n",
       "      <th>Gender</th>\n",
       "      <th>Education Level</th>\n",
       "      <th>Job Title</th>\n",
       "      <th>Years of Experience</th>\n",
       "      <th>Salary</th>\n",
       "      <th>Salary_Greater_90k</th>\n",
       "    </tr>\n",
       "  </thead>\n",
       "  <tbody>\n",
       "    <tr>\n",
       "      <th>0</th>\n",
       "      <td>32.0</td>\n",
       "      <td>1</td>\n",
       "      <td>0</td>\n",
       "      <td>159</td>\n",
       "      <td>5.0</td>\n",
       "      <td>90000.0</td>\n",
       "      <td>0</td>\n",
       "    </tr>\n",
       "    <tr>\n",
       "      <th>1</th>\n",
       "      <td>28.0</td>\n",
       "      <td>0</td>\n",
       "      <td>1</td>\n",
       "      <td>17</td>\n",
       "      <td>3.0</td>\n",
       "      <td>65000.0</td>\n",
       "      <td>0</td>\n",
       "    </tr>\n",
       "    <tr>\n",
       "      <th>2</th>\n",
       "      <td>45.0</td>\n",
       "      <td>1</td>\n",
       "      <td>2</td>\n",
       "      <td>130</td>\n",
       "      <td>15.0</td>\n",
       "      <td>150000.0</td>\n",
       "      <td>1</td>\n",
       "    </tr>\n",
       "    <tr>\n",
       "      <th>3</th>\n",
       "      <td>36.0</td>\n",
       "      <td>0</td>\n",
       "      <td>0</td>\n",
       "      <td>101</td>\n",
       "      <td>7.0</td>\n",
       "      <td>60000.0</td>\n",
       "      <td>0</td>\n",
       "    </tr>\n",
       "    <tr>\n",
       "      <th>4</th>\n",
       "      <td>52.0</td>\n",
       "      <td>1</td>\n",
       "      <td>1</td>\n",
       "      <td>22</td>\n",
       "      <td>20.0</td>\n",
       "      <td>200000.0</td>\n",
       "      <td>1</td>\n",
       "    </tr>\n",
       "    <tr>\n",
       "      <th>...</th>\n",
       "      <td>...</td>\n",
       "      <td>...</td>\n",
       "      <td>...</td>\n",
       "      <td>...</td>\n",
       "      <td>...</td>\n",
       "      <td>...</td>\n",
       "      <td>...</td>\n",
       "    </tr>\n",
       "    <tr>\n",
       "      <th>348</th>\n",
       "      <td>28.0</td>\n",
       "      <td>0</td>\n",
       "      <td>0</td>\n",
       "      <td>68</td>\n",
       "      <td>1.0</td>\n",
       "      <td>35000.0</td>\n",
       "      <td>0</td>\n",
       "    </tr>\n",
       "    <tr>\n",
       "      <th>349</th>\n",
       "      <td>36.0</td>\n",
       "      <td>1</td>\n",
       "      <td>0</td>\n",
       "      <td>111</td>\n",
       "      <td>8.0</td>\n",
       "      <td>110000.0</td>\n",
       "      <td>1</td>\n",
       "    </tr>\n",
       "    <tr>\n",
       "      <th>350</th>\n",
       "      <td>44.0</td>\n",
       "      <td>0</td>\n",
       "      <td>2</td>\n",
       "      <td>115</td>\n",
       "      <td>16.0</td>\n",
       "      <td>160000.0</td>\n",
       "      <td>1</td>\n",
       "    </tr>\n",
       "    <tr>\n",
       "      <th>351</th>\n",
       "      <td>31.0</td>\n",
       "      <td>1</td>\n",
       "      <td>0</td>\n",
       "      <td>63</td>\n",
       "      <td>3.0</td>\n",
       "      <td>55000.0</td>\n",
       "      <td>0</td>\n",
       "    </tr>\n",
       "    <tr>\n",
       "      <th>371</th>\n",
       "      <td>43.0</td>\n",
       "      <td>1</td>\n",
       "      <td>1</td>\n",
       "      <td>30</td>\n",
       "      <td>19.0</td>\n",
       "      <td>170000.0</td>\n",
       "      <td>1</td>\n",
       "    </tr>\n",
       "  </tbody>\n",
       "</table>\n",
       "<p>324 rows × 7 columns</p>\n",
       "</div>"
      ],
      "text/plain": [
       "      Age  Gender  Education Level  Job Title  Years of Experience    Salary  \\\n",
       "0    32.0       1                0        159                  5.0   90000.0   \n",
       "1    28.0       0                1         17                  3.0   65000.0   \n",
       "2    45.0       1                2        130                 15.0  150000.0   \n",
       "3    36.0       0                0        101                  7.0   60000.0   \n",
       "4    52.0       1                1         22                 20.0  200000.0   \n",
       "..    ...     ...              ...        ...                  ...       ...   \n",
       "348  28.0       0                0         68                  1.0   35000.0   \n",
       "349  36.0       1                0        111                  8.0  110000.0   \n",
       "350  44.0       0                2        115                 16.0  160000.0   \n",
       "351  31.0       1                0         63                  3.0   55000.0   \n",
       "371  43.0       1                1         30                 19.0  170000.0   \n",
       "\n",
       "     Salary_Greater_90k  \n",
       "0                     0  \n",
       "1                     0  \n",
       "2                     1  \n",
       "3                     0  \n",
       "4                     1  \n",
       "..                  ...  \n",
       "348                   0  \n",
       "349                   1  \n",
       "350                   1  \n",
       "351                   0  \n",
       "371                   1  \n",
       "\n",
       "[324 rows x 7 columns]"
      ]
     },
     "execution_count": 39,
     "metadata": {},
     "output_type": "execute_result"
    }
   ],
   "source": [
    "salary"
   ]
  },
  {
   "cell_type": "code",
   "execution_count": 45,
   "id": "2cb1ade0",
   "metadata": {},
   "outputs": [
    {
     "name": "stderr",
     "output_type": "stream",
     "text": [
      "/home/oem/.local/lib/python3.6/site-packages/seaborn/categorical.py:3717: UserWarning: The `factorplot` function has been renamed to `catplot`. The original name will be removed in a future release. Please update your code. Note that the default `kind` in `factorplot` (`'point'`) has changed `'strip'` in `catplot`.\n",
      "  warnings.warn(msg)\n"
     ]
    },
    {
     "data": {
      "text/plain": [
       "<seaborn.axisgrid.FacetGrid at 0x7f7b892cd390>"
      ]
     },
     "execution_count": 45,
     "metadata": {},
     "output_type": "execute_result"
    },
    {
     "data": {
      "image/png": "[encoded data removed]",
      "text/plain": [
       "<Figure size 465.75x360 with 1 Axes>"
      ]
     },
     "metadata": {},
     "output_type": "display_data"
    }
   ],
   "source": [
    "sns.factorplot(data=salary, x='Years of Experience', y='Education Level' , hue='Salary_Greater_90k', kind='point')\n"
   ]
  },
  {
   "cell_type": "code",
   "execution_count": 47,
   "id": "8b05f1c7",
   "metadata": {},
   "outputs": [],
   "source": [
    "## Applying Min Max Scaler to keep the data range from (0-1)"
   ]
  },
  {
   "cell_type": "code",
   "execution_count": 46,
   "id": "6e434973",
   "metadata": {},
   "outputs": [
    {
     "name": "stdout",
     "output_type": "stream",
     "text": [
      "          Age  Gender  Education Level  Job Title  Years of Experience  \\\n",
      "0    0.300000     1.0              0.0   0.919075                 0.20   \n",
      "1    0.166667     0.0              0.5   0.098266                 0.12   \n",
      "2    0.733333     1.0              1.0   0.751445                 0.60   \n",
      "3    0.433333     0.0              0.0   0.583815                 0.28   \n",
      "4    0.966667     1.0              0.5   0.127168                 0.80   \n",
      "..        ...     ...              ...        ...                  ...   \n",
      "348  0.166667     0.0              0.0   0.393064                 0.04   \n",
      "349  0.433333     1.0              0.0   0.641618                 0.32   \n",
      "350  0.700000     0.0              1.0   0.664740                 0.64   \n",
      "351  0.266667     1.0              0.0   0.364162                 0.12   \n",
      "371  0.666667     1.0              0.5   0.173410                 0.76   \n",
      "\n",
      "       Salary  Salary_Greater_90k  \n",
      "0     90000.0                   0  \n",
      "1     65000.0                   0  \n",
      "2    150000.0                   1  \n",
      "3     60000.0                   0  \n",
      "4    200000.0                   1  \n",
      "..        ...                 ...  \n",
      "348   35000.0                   0  \n",
      "349  110000.0                   1  \n",
      "350  160000.0                   1  \n",
      "351   55000.0                   0  \n",
      "371  170000.0                   1  \n",
      "\n",
      "[324 rows x 7 columns]\n"
     ]
    }
   ],
   "source": [
    "from sklearn.preprocessing import MinMaxScaler\n",
    "\n",
    "# Define columns to scale\n",
    "columns_to_scale = ['Age', 'Gender', 'Education Level', 'Job Title','Years of Experience']\n",
    "\n",
    "# Initialize MinMaxScaler\n",
    "mmsc = MinMaxScaler()\n",
    "\n",
    "# Scale the selected columns and assign the scaled values directly to the DataFrame columns\n",
    "salary[columns_to_scale] = mmsc.fit_transform(salary[columns_to_scale])\n",
    "\n",
    "# Print the DataFrame to verify the changes\n",
    "print(salary)"
   ]
  },
  {
   "cell_type": "code",
   "execution_count": 48,
   "id": "fc571e5a",
   "metadata": {},
   "outputs": [
    {
     "data": {
      "text/html": [
       "<div>\n",
       "<style scoped>\n",
       "    .dataframe tbody tr th:only-of-type {\n",
       "        vertical-align: middle;\n",
       "    }\n",
       "\n",
       "    .dataframe tbody tr th {\n",
       "        vertical-align: top;\n",
       "    }\n",
       "\n",
       "    .dataframe thead th {\n",
       "        text-align: right;\n",
       "    }\n",
       "</style>\n",
       "<table border=\"1\" class=\"dataframe\">\n",
       "  <thead>\n",
       "    <tr style=\"text-align: right;\">\n",
       "      <th></th>\n",
       "      <th>Age</th>\n",
       "      <th>Gender</th>\n",
       "      <th>Education Level</th>\n",
       "      <th>Job Title</th>\n",
       "      <th>Years of Experience</th>\n",
       "      <th>Salary</th>\n",
       "      <th>Salary_Greater_90k</th>\n",
       "    </tr>\n",
       "  </thead>\n",
       "  <tbody>\n",
       "    <tr>\n",
       "      <th>0</th>\n",
       "      <td>0.300000</td>\n",
       "      <td>1.0</td>\n",
       "      <td>0.0</td>\n",
       "      <td>0.919075</td>\n",
       "      <td>0.20</td>\n",
       "      <td>90000.0</td>\n",
       "      <td>0</td>\n",
       "    </tr>\n",
       "    <tr>\n",
       "      <th>1</th>\n",
       "      <td>0.166667</td>\n",
       "      <td>0.0</td>\n",
       "      <td>0.5</td>\n",
       "      <td>0.098266</td>\n",
       "      <td>0.12</td>\n",
       "      <td>65000.0</td>\n",
       "      <td>0</td>\n",
       "    </tr>\n",
       "    <tr>\n",
       "      <th>2</th>\n",
       "      <td>0.733333</td>\n",
       "      <td>1.0</td>\n",
       "      <td>1.0</td>\n",
       "      <td>0.751445</td>\n",
       "      <td>0.60</td>\n",
       "      <td>150000.0</td>\n",
       "      <td>1</td>\n",
       "    </tr>\n",
       "    <tr>\n",
       "      <th>3</th>\n",
       "      <td>0.433333</td>\n",
       "      <td>0.0</td>\n",
       "      <td>0.0</td>\n",
       "      <td>0.583815</td>\n",
       "      <td>0.28</td>\n",
       "      <td>60000.0</td>\n",
       "      <td>0</td>\n",
       "    </tr>\n",
       "    <tr>\n",
       "      <th>4</th>\n",
       "      <td>0.966667</td>\n",
       "      <td>1.0</td>\n",
       "      <td>0.5</td>\n",
       "      <td>0.127168</td>\n",
       "      <td>0.80</td>\n",
       "      <td>200000.0</td>\n",
       "      <td>1</td>\n",
       "    </tr>\n",
       "    <tr>\n",
       "      <th>...</th>\n",
       "      <td>...</td>\n",
       "      <td>...</td>\n",
       "      <td>...</td>\n",
       "      <td>...</td>\n",
       "      <td>...</td>\n",
       "      <td>...</td>\n",
       "      <td>...</td>\n",
       "    </tr>\n",
       "    <tr>\n",
       "      <th>348</th>\n",
       "      <td>0.166667</td>\n",
       "      <td>0.0</td>\n",
       "      <td>0.0</td>\n",
       "      <td>0.393064</td>\n",
       "      <td>0.04</td>\n",
       "      <td>35000.0</td>\n",
       "      <td>0</td>\n",
       "    </tr>\n",
       "    <tr>\n",
       "      <th>349</th>\n",
       "      <td>0.433333</td>\n",
       "      <td>1.0</td>\n",
       "      <td>0.0</td>\n",
       "      <td>0.641618</td>\n",
       "      <td>0.32</td>\n",
       "      <td>110000.0</td>\n",
       "      <td>1</td>\n",
       "    </tr>\n",
       "    <tr>\n",
       "      <th>350</th>\n",
       "      <td>0.700000</td>\n",
       "      <td>0.0</td>\n",
       "      <td>1.0</td>\n",
       "      <td>0.664740</td>\n",
       "      <td>0.64</td>\n",
       "      <td>160000.0</td>\n",
       "      <td>1</td>\n",
       "    </tr>\n",
       "    <tr>\n",
       "      <th>351</th>\n",
       "      <td>0.266667</td>\n",
       "      <td>1.0</td>\n",
       "      <td>0.0</td>\n",
       "      <td>0.364162</td>\n",
       "      <td>0.12</td>\n",
       "      <td>55000.0</td>\n",
       "      <td>0</td>\n",
       "    </tr>\n",
       "    <tr>\n",
       "      <th>371</th>\n",
       "      <td>0.666667</td>\n",
       "      <td>1.0</td>\n",
       "      <td>0.5</td>\n",
       "      <td>0.173410</td>\n",
       "      <td>0.76</td>\n",
       "      <td>170000.0</td>\n",
       "      <td>1</td>\n",
       "    </tr>\n",
       "  </tbody>\n",
       "</table>\n",
       "<p>324 rows × 7 columns</p>\n",
       "</div>"
      ],
      "text/plain": [
       "          Age  Gender  Education Level  Job Title  Years of Experience  \\\n",
       "0    0.300000     1.0              0.0   0.919075                 0.20   \n",
       "1    0.166667     0.0              0.5   0.098266                 0.12   \n",
       "2    0.733333     1.0              1.0   0.751445                 0.60   \n",
       "3    0.433333     0.0              0.0   0.583815                 0.28   \n",
       "4    0.966667     1.0              0.5   0.127168                 0.80   \n",
       "..        ...     ...              ...        ...                  ...   \n",
       "348  0.166667     0.0              0.0   0.393064                 0.04   \n",
       "349  0.433333     1.0              0.0   0.641618                 0.32   \n",
       "350  0.700000     0.0              1.0   0.664740                 0.64   \n",
       "351  0.266667     1.0              0.0   0.364162                 0.12   \n",
       "371  0.666667     1.0              0.5   0.173410                 0.76   \n",
       "\n",
       "       Salary  Salary_Greater_90k  \n",
       "0     90000.0                   0  \n",
       "1     65000.0                   0  \n",
       "2    150000.0                   1  \n",
       "3     60000.0                   0  \n",
       "4    200000.0                   1  \n",
       "..        ...                 ...  \n",
       "348   35000.0                   0  \n",
       "349  110000.0                   1  \n",
       "350  160000.0                   1  \n",
       "351   55000.0                   0  \n",
       "371  170000.0                   1  \n",
       "\n",
       "[324 rows x 7 columns]"
      ]
     },
     "execution_count": 48,
     "metadata": {},
     "output_type": "execute_result"
    }
   ],
   "source": [
    "salary"
   ]
  },
  {
   "cell_type": "code",
   "execution_count": 50,
   "id": "6dbc1694",
   "metadata": {},
   "outputs": [],
   "source": [
    "# We need to get rid of salary column specifically and then Salary Greater than 90k column which will be\n",
    "# used as a predicted value with 0 or 1\n",
    "X = salary.drop(columns=['Salary','Salary_Greater_90k'], axis=1)\n",
    "y = salary['Salary_Greater_90k']"
   ]
  },
  {
   "cell_type": "code",
   "execution_count": 51,
   "id": "565af2bb",
   "metadata": {},
   "outputs": [
    {
     "data": {
      "text/html": [
       "<div>\n",
       "<style scoped>\n",
       "    .dataframe tbody tr th:only-of-type {\n",
       "        vertical-align: middle;\n",
       "    }\n",
       "\n",
       "    .dataframe tbody tr th {\n",
       "        vertical-align: top;\n",
       "    }\n",
       "\n",
       "    .dataframe thead th {\n",
       "        text-align: right;\n",
       "    }\n",
       "</style>\n",
       "<table border=\"1\" class=\"dataframe\">\n",
       "  <thead>\n",
       "    <tr style=\"text-align: right;\">\n",
       "      <th></th>\n",
       "      <th>Age</th>\n",
       "      <th>Gender</th>\n",
       "      <th>Education Level</th>\n",
       "      <th>Job Title</th>\n",
       "      <th>Years of Experience</th>\n",
       "    </tr>\n",
       "  </thead>\n",
       "  <tbody>\n",
       "    <tr>\n",
       "      <th>0</th>\n",
       "      <td>0.300000</td>\n",
       "      <td>1.0</td>\n",
       "      <td>0.0</td>\n",
       "      <td>0.919075</td>\n",
       "      <td>0.20</td>\n",
       "    </tr>\n",
       "    <tr>\n",
       "      <th>1</th>\n",
       "      <td>0.166667</td>\n",
       "      <td>0.0</td>\n",
       "      <td>0.5</td>\n",
       "      <td>0.098266</td>\n",
       "      <td>0.12</td>\n",
       "    </tr>\n",
       "    <tr>\n",
       "      <th>2</th>\n",
       "      <td>0.733333</td>\n",
       "      <td>1.0</td>\n",
       "      <td>1.0</td>\n",
       "      <td>0.751445</td>\n",
       "      <td>0.60</td>\n",
       "    </tr>\n",
       "    <tr>\n",
       "      <th>3</th>\n",
       "      <td>0.433333</td>\n",
       "      <td>0.0</td>\n",
       "      <td>0.0</td>\n",
       "      <td>0.583815</td>\n",
       "      <td>0.28</td>\n",
       "    </tr>\n",
       "    <tr>\n",
       "      <th>4</th>\n",
       "      <td>0.966667</td>\n",
       "      <td>1.0</td>\n",
       "      <td>0.5</td>\n",
       "      <td>0.127168</td>\n",
       "      <td>0.80</td>\n",
       "    </tr>\n",
       "    <tr>\n",
       "      <th>...</th>\n",
       "      <td>...</td>\n",
       "      <td>...</td>\n",
       "      <td>...</td>\n",
       "      <td>...</td>\n",
       "      <td>...</td>\n",
       "    </tr>\n",
       "    <tr>\n",
       "      <th>348</th>\n",
       "      <td>0.166667</td>\n",
       "      <td>0.0</td>\n",
       "      <td>0.0</td>\n",
       "      <td>0.393064</td>\n",
       "      <td>0.04</td>\n",
       "    </tr>\n",
       "    <tr>\n",
       "      <th>349</th>\n",
       "      <td>0.433333</td>\n",
       "      <td>1.0</td>\n",
       "      <td>0.0</td>\n",
       "      <td>0.641618</td>\n",
       "      <td>0.32</td>\n",
       "    </tr>\n",
       "    <tr>\n",
       "      <th>350</th>\n",
       "      <td>0.700000</td>\n",
       "      <td>0.0</td>\n",
       "      <td>1.0</td>\n",
       "      <td>0.664740</td>\n",
       "      <td>0.64</td>\n",
       "    </tr>\n",
       "    <tr>\n",
       "      <th>351</th>\n",
       "      <td>0.266667</td>\n",
       "      <td>1.0</td>\n",
       "      <td>0.0</td>\n",
       "      <td>0.364162</td>\n",
       "      <td>0.12</td>\n",
       "    </tr>\n",
       "    <tr>\n",
       "      <th>371</th>\n",
       "      <td>0.666667</td>\n",
       "      <td>1.0</td>\n",
       "      <td>0.5</td>\n",
       "      <td>0.173410</td>\n",
       "      <td>0.76</td>\n",
       "    </tr>\n",
       "  </tbody>\n",
       "</table>\n",
       "<p>324 rows × 5 columns</p>\n",
       "</div>"
      ],
      "text/plain": [
       "          Age  Gender  Education Level  Job Title  Years of Experience\n",
       "0    0.300000     1.0              0.0   0.919075                 0.20\n",
       "1    0.166667     0.0              0.5   0.098266                 0.12\n",
       "2    0.733333     1.0              1.0   0.751445                 0.60\n",
       "3    0.433333     0.0              0.0   0.583815                 0.28\n",
       "4    0.966667     1.0              0.5   0.127168                 0.80\n",
       "..        ...     ...              ...        ...                  ...\n",
       "348  0.166667     0.0              0.0   0.393064                 0.04\n",
       "349  0.433333     1.0              0.0   0.641618                 0.32\n",
       "350  0.700000     0.0              1.0   0.664740                 0.64\n",
       "351  0.266667     1.0              0.0   0.364162                 0.12\n",
       "371  0.666667     1.0              0.5   0.173410                 0.76\n",
       "\n",
       "[324 rows x 5 columns]"
      ]
     },
     "execution_count": 51,
     "metadata": {},
     "output_type": "execute_result"
    }
   ],
   "source": [
    "X"
   ]
  },
  {
   "cell_type": "code",
   "execution_count": 63,
   "id": "a7e62a5c",
   "metadata": {},
   "outputs": [
    {
     "data": {
      "text/plain": [
       "0      0\n",
       "1      0\n",
       "2      1\n",
       "3      0\n",
       "4      1\n",
       "      ..\n",
       "348    0\n",
       "349    1\n",
       "350    1\n",
       "351    0\n",
       "371    1\n",
       "Name: Salary_Greater_90k, Length: 324, dtype: int64"
      ]
     },
     "execution_count": 63,
     "metadata": {},
     "output_type": "execute_result"
    }
   ],
   "source": [
    "y"
   ]
  },
  {
   "cell_type": "code",
   "execution_count": 54,
   "id": "fd13aa37",
   "metadata": {},
   "outputs": [],
   "source": [
    "X_train, X_test, y_train, y_test = train_test_split(X, y, test_size=0.2, random_state=24)\n"
   ]
  },
  {
   "cell_type": "code",
   "execution_count": 75,
   "id": "e0bda5da",
   "metadata": {},
   "outputs": [],
   "source": [
    "from sklearn import tree\n",
    "from sklearn.tree import DecisionTreeClassifier\n",
    "from sklearn import metrics\n",
    "from sklearn.metrics import classification_report, confusion_matrix, roc_auc_score\n"
   ]
  },
  {
   "cell_type": "markdown",
   "id": "34f6dd98",
   "metadata": {},
   "source": [
    "## Model Training "
   ]
  },
  {
   "cell_type": "code",
   "execution_count": 79,
   "id": "67c4b6d6",
   "metadata": {},
   "outputs": [],
   "source": [
    "dtree = DecisionTreeClassifier()\n",
    "dtree = dtree.fit(X_train,y_train)\n"
   ]
  },
  {
   "cell_type": "code",
   "execution_count": 80,
   "id": "27a51983",
   "metadata": {},
   "outputs": [
    {
     "data": {
      "text/plain": [
       "array([0, 1, 1, 1, 1, 1, 0, 1, 1, 0, 1, 1, 0, 1, 0, 0, 1, 1, 0, 0, 1, 0,\n",
       "       1, 0, 1, 0, 1, 1, 1, 1, 1, 1, 1, 0, 1, 1, 0, 1, 0, 0, 1, 0, 0, 1,\n",
       "       0, 1, 1, 1, 1, 1, 1, 1, 0, 0, 0, 1, 1, 0, 1, 0, 1, 1, 1, 1, 1])"
      ]
     },
     "execution_count": 80,
     "metadata": {},
     "output_type": "execute_result"
    }
   ],
   "source": [
    "prediction = dtree.predict(X_test)\n",
    "prediction"
   ]
  },
  {
   "cell_type": "code",
   "execution_count": 81,
   "id": "da9375f2",
   "metadata": {},
   "outputs": [
    {
     "name": "stdout",
     "output_type": "stream",
     "text": [
      "Accuracy of the model :  89.23076923076924\n"
     ]
    }
   ],
   "source": [
    "print(\"Accuracy of the model : \",metrics.accuracy_score(y_test,prediction)*100)"
   ]
  },
  {
   "cell_type": "code",
   "execution_count": 82,
   "id": "9877d53e",
   "metadata": {},
   "outputs": [
    {
     "name": "stdout",
     "output_type": "stream",
     "text": [
      "              precision    recall  f1-score   support\n",
      "\n",
      "           0       1.00      0.77      0.87        30\n",
      "           1       0.83      1.00      0.91        35\n",
      "\n",
      "    accuracy                           0.89        65\n",
      "   macro avg       0.92      0.88      0.89        65\n",
      "weighted avg       0.91      0.89      0.89        65\n",
      "\n"
     ]
    },
    {
     "data": {
      "image/png": "[encoded data removed]",
      "text/plain": [
       "<Figure size 432x288 with 2 Axes>"
      ]
     },
     "metadata": {},
     "output_type": "display_data"
    }
   ],
   "source": [
    "matrix = confusion_matrix(y_test, prediction)\n",
    "sns.heatmap(matrix, annot= True, fmt=\"d\")\n",
    "plt.title(\"Confusion Matrix\")\n",
    "plt.xlabel(\"Predicted\")\n",
    "plt.ylabel(\"True\")\n",
    "print(classification_report(y_test,prediction))"
   ]
  },
  {
   "cell_type": "code",
   "execution_count": null,
   "id": "ac870059",
   "metadata": {},
   "outputs": [],
   "source": []
  }
 ],
 "metadata": {
  "kernelspec": {
   "display_name": "Python 3",
   "language": "python",
   "name": "python3"
  },
  "language_info": {
   "codemirror_mode": {
    "name": "ipython",
    "version": 3
   },
   "file_extension": ".py",
   "mimetype": "text/x-python",
   "name": "python",
   "nbconvert_exporter": "python",
   "pygments_lexer": "ipython3",
   "version": "3.6.9"
  }
 },
 "nbformat": 4,
 "nbformat_minor": 5
}
